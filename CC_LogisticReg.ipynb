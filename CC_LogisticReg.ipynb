{
 "cells": [
  {
   "cell_type": "code",
   "execution_count": 2,
   "metadata": {},
   "outputs": [],
   "source": [
    "import pandas as pd\n",
    "import numpy as np\n",
    "import seaborn as sns\n",
    "import matplotlib.pyplot as plt\n",
    "%matplotlib inline"
   ]
  },
  {
   "cell_type": "code",
   "execution_count": 3,
   "metadata": {},
   "outputs": [
    {
     "data": {
      "text/html": [
       "<div>\n",
       "<style scoped>\n",
       "    .dataframe tbody tr th:only-of-type {\n",
       "        vertical-align: middle;\n",
       "    }\n",
       "\n",
       "    .dataframe tbody tr th {\n",
       "        vertical-align: top;\n",
       "    }\n",
       "\n",
       "    .dataframe thead th {\n",
       "        text-align: right;\n",
       "    }\n",
       "</style>\n",
       "<table border=\"1\" class=\"dataframe\">\n",
       "  <thead>\n",
       "    <tr style=\"text-align: right;\">\n",
       "      <th></th>\n",
       "      <th>Unnamed: 0</th>\n",
       "      <th>card</th>\n",
       "      <th>reports</th>\n",
       "      <th>age</th>\n",
       "      <th>income</th>\n",
       "      <th>share</th>\n",
       "      <th>expenditure</th>\n",
       "      <th>owner</th>\n",
       "      <th>selfemp</th>\n",
       "      <th>dependents</th>\n",
       "      <th>months</th>\n",
       "      <th>majorcards</th>\n",
       "      <th>active</th>\n",
       "    </tr>\n",
       "  </thead>\n",
       "  <tbody>\n",
       "    <tr>\n",
       "      <th>0</th>\n",
       "      <td>1</td>\n",
       "      <td>yes</td>\n",
       "      <td>0</td>\n",
       "      <td>37.66667</td>\n",
       "      <td>4.5200</td>\n",
       "      <td>0.033270</td>\n",
       "      <td>124.983300</td>\n",
       "      <td>yes</td>\n",
       "      <td>no</td>\n",
       "      <td>3</td>\n",
       "      <td>54</td>\n",
       "      <td>1</td>\n",
       "      <td>12</td>\n",
       "    </tr>\n",
       "    <tr>\n",
       "      <th>1</th>\n",
       "      <td>2</td>\n",
       "      <td>yes</td>\n",
       "      <td>0</td>\n",
       "      <td>33.25000</td>\n",
       "      <td>2.4200</td>\n",
       "      <td>0.005217</td>\n",
       "      <td>9.854167</td>\n",
       "      <td>no</td>\n",
       "      <td>no</td>\n",
       "      <td>3</td>\n",
       "      <td>34</td>\n",
       "      <td>1</td>\n",
       "      <td>13</td>\n",
       "    </tr>\n",
       "    <tr>\n",
       "      <th>2</th>\n",
       "      <td>3</td>\n",
       "      <td>yes</td>\n",
       "      <td>0</td>\n",
       "      <td>33.66667</td>\n",
       "      <td>4.5000</td>\n",
       "      <td>0.004156</td>\n",
       "      <td>15.000000</td>\n",
       "      <td>yes</td>\n",
       "      <td>no</td>\n",
       "      <td>4</td>\n",
       "      <td>58</td>\n",
       "      <td>1</td>\n",
       "      <td>5</td>\n",
       "    </tr>\n",
       "    <tr>\n",
       "      <th>3</th>\n",
       "      <td>4</td>\n",
       "      <td>yes</td>\n",
       "      <td>0</td>\n",
       "      <td>30.50000</td>\n",
       "      <td>2.5400</td>\n",
       "      <td>0.065214</td>\n",
       "      <td>137.869200</td>\n",
       "      <td>no</td>\n",
       "      <td>no</td>\n",
       "      <td>0</td>\n",
       "      <td>25</td>\n",
       "      <td>1</td>\n",
       "      <td>7</td>\n",
       "    </tr>\n",
       "    <tr>\n",
       "      <th>4</th>\n",
       "      <td>5</td>\n",
       "      <td>yes</td>\n",
       "      <td>0</td>\n",
       "      <td>32.16667</td>\n",
       "      <td>9.7867</td>\n",
       "      <td>0.067051</td>\n",
       "      <td>546.503300</td>\n",
       "      <td>yes</td>\n",
       "      <td>no</td>\n",
       "      <td>2</td>\n",
       "      <td>64</td>\n",
       "      <td>1</td>\n",
       "      <td>5</td>\n",
       "    </tr>\n",
       "  </tbody>\n",
       "</table>\n",
       "</div>"
      ],
      "text/plain": [
       "   Unnamed: 0 card  reports       age  income     share  expenditure owner  \\\n",
       "0           1  yes        0  37.66667  4.5200  0.033270   124.983300   yes   \n",
       "1           2  yes        0  33.25000  2.4200  0.005217     9.854167    no   \n",
       "2           3  yes        0  33.66667  4.5000  0.004156    15.000000   yes   \n",
       "3           4  yes        0  30.50000  2.5400  0.065214   137.869200    no   \n",
       "4           5  yes        0  32.16667  9.7867  0.067051   546.503300   yes   \n",
       "\n",
       "  selfemp  dependents  months  majorcards  active  \n",
       "0      no           3      54           1      12  \n",
       "1      no           3      34           1      13  \n",
       "2      no           4      58           1       5  \n",
       "3      no           0      25           1       7  \n",
       "4      no           2      64           1       5  "
      ]
     },
     "execution_count": 3,
     "metadata": {},
     "output_type": "execute_result"
    }
   ],
   "source": [
    "df = pd.read_csv(\"Credit_card.csv\")\n",
    "df.head()"
   ]
  },
  {
   "cell_type": "code",
   "execution_count": 4,
   "metadata": {},
   "outputs": [],
   "source": [
    "df.drop(labels=\"Unnamed: 0\",axis=1,inplace=True)"
   ]
  },
  {
   "cell_type": "code",
   "execution_count": 5,
   "metadata": {},
   "outputs": [
    {
     "data": {
      "text/plain": [
       "card           0\n",
       "reports        0\n",
       "age            0\n",
       "income         0\n",
       "share          0\n",
       "expenditure    0\n",
       "owner          0\n",
       "selfemp        0\n",
       "dependents     0\n",
       "months         0\n",
       "majorcards     0\n",
       "active         0\n",
       "dtype: int64"
      ]
     },
     "execution_count": 5,
     "metadata": {},
     "output_type": "execute_result"
    }
   ],
   "source": [
    "df.isnull().sum()"
   ]
  },
  {
   "cell_type": "code",
   "execution_count": 6,
   "metadata": {},
   "outputs": [
    {
     "data": {
      "text/plain": [
       "<matplotlib.axes._subplots.AxesSubplot at 0x200645b6488>"
      ]
     },
     "execution_count": 6,
     "metadata": {},
     "output_type": "execute_result"
    },
    {
     "data": {
      "image/png": "[encoded data removed]",
      "text/plain": [
       "<Figure size 432x288 with 1 Axes>"
      ]
     },
     "metadata": {
      "needs_background": "light"
     },
     "output_type": "display_data"
    }
   ],
   "source": [
    "sns.scatterplot(x='income', y='expenditure', hue='majorcards', data=df, palette='viridis')"
   ]
  },
  {
   "cell_type": "code",
   "execution_count": 7,
   "metadata": {},
   "outputs": [
    {
     "data": {
      "text/plain": [
       "<matplotlib.axes._subplots.AxesSubplot at 0x200666a5488>"
      ]
     },
     "execution_count": 7,
     "metadata": {},
     "output_type": "execute_result"
    },
    {
     "data": {
      "image/png": "[encoded data removed]",
      "text/plain": [
       "<Figure size 432x288 with 1 Axes>"
      ]
     },
     "metadata": {
      "needs_background": "light"
     },
     "output_type": "display_data"
    }
   ],
   "source": [
    "sns.countplot(x='card', data=df)"
   ]
  },
  {
   "cell_type": "code",
   "execution_count": 8,
   "metadata": {},
   "outputs": [
    {
     "data": {
      "text/plain": [
       "<matplotlib.axes._subplots.AxesSubplot at 0x2006671ac08>"
      ]
     },
     "execution_count": 8,
     "metadata": {},
     "output_type": "execute_result"
    },
    {
     "data": {
      "image/png": "[encoded data removed]",
      "text/plain": [
       "<Figure size 432x288 with 1 Axes>"
      ]
     },
     "metadata": {
      "needs_background": "light"
     },
     "output_type": "display_data"
    }
   ],
   "source": [
    "sns.countplot(x='card', hue='selfemp',data=df, palette='RdBu_r')"
   ]
  },
  {
   "cell_type": "code",
   "execution_count": 9,
   "metadata": {},
   "outputs": [
    {
     "data": {
      "text/plain": [
       "<matplotlib.axes._subplots.AxesSubplot at 0x2006671a2c8>"
      ]
     },
     "execution_count": 9,
     "metadata": {},
     "output_type": "execute_result"
    },
    {
     "data": {
      "image/png": "[encoded data removed]",
      "text/plain": [
       "<Figure size 1080x720 with 1 Axes>"
      ]
     },
     "metadata": {
      "needs_background": "light"
     },
     "output_type": "display_data"
    }
   ],
   "source": [
    "plt.figure(figsize=(15,10))\n",
    "sns.countplot(x='card', hue='dependents', data=df, palette='coolwarm')"
   ]
  },
  {
   "cell_type": "code",
   "execution_count": 10,
   "metadata": {},
   "outputs": [],
   "source": [
    "sns.set_style('whitegrid')"
   ]
  },
  {
   "cell_type": "code",
   "execution_count": 11,
   "metadata": {},
   "outputs": [
    {
     "data": {
      "text/plain": [
       "<matplotlib.axes._subplots.AxesSubplot at 0x20066b25908>"
      ]
     },
     "execution_count": 11,
     "metadata": {},
     "output_type": "execute_result"
    },
    {
     "data": {
      "image/png": "[encoded data removed]",
      "text/plain": [
       "<Figure size 720x576 with 1 Axes>"
      ]
     },
     "metadata": {},
     "output_type": "display_data"
    }
   ],
   "source": [
    "plt.figure(figsize=(10,8))\n",
    "sns.distplot(df['age'], bins=30, color='green', kde=False)"
   ]
  },
  {
   "cell_type": "code",
   "execution_count": 12,
   "metadata": {},
   "outputs": [
    {
     "data": {
      "text/plain": [
       "<matplotlib.axes._subplots.AxesSubplot at 0x20066864e08>"
      ]
     },
     "execution_count": 12,
     "metadata": {},
     "output_type": "execute_result"
    },
    {
     "data": {
      "image/png": "[encoded data removed]",
      "text/plain": [
       "<Figure size 720x576 with 1 Axes>"
      ]
     },
     "metadata": {},
     "output_type": "display_data"
    }
   ],
   "source": [
    "df['age'].hist(bins=35,figsize=(10,8),color='cyan')"
   ]
  },
  {
   "cell_type": "code",
   "execution_count": 13,
   "metadata": {},
   "outputs": [
    {
     "name": "stdout",
     "output_type": "stream",
     "text": [
      "<class 'pandas.core.frame.DataFrame'>\n",
      "RangeIndex: 1319 entries, 0 to 1318\n",
      "Data columns (total 12 columns):\n",
      " #   Column       Non-Null Count  Dtype  \n",
      "---  ------       --------------  -----  \n",
      " 0   card         1319 non-null   object \n",
      " 1   reports      1319 non-null   int64  \n",
      " 2   age          1319 non-null   float64\n",
      " 3   income       1319 non-null   float64\n",
      " 4   share        1319 non-null   float64\n",
      " 5   expenditure  1319 non-null   float64\n",
      " 6   owner        1319 non-null   object \n",
      " 7   selfemp      1319 non-null   object \n",
      " 8   dependents   1319 non-null   int64  \n",
      " 9   months       1319 non-null   int64  \n",
      " 10  majorcards   1319 non-null   int64  \n",
      " 11  active       1319 non-null   int64  \n",
      "dtypes: float64(4), int64(5), object(3)\n",
      "memory usage: 123.8+ KB\n"
     ]
    }
   ],
   "source": [
    "df.info()"
   ]
  },
  {
   "cell_type": "code",
   "execution_count": 14,
   "metadata": {},
   "outputs": [
    {
     "data": {
      "text/plain": [
       "<matplotlib.axes._subplots.AxesSubplot at 0x2006696d908>"
      ]
     },
     "execution_count": 14,
     "metadata": {},
     "output_type": "execute_result"
    },
    {
     "data": {
      "image/png": "[encoded data removed]",
      "text/plain": [
       "<Figure size 720x360 with 1 Axes>"
      ]
     },
     "metadata": {},
     "output_type": "display_data"
    }
   ],
   "source": [
    "df['income'].hist(bins=40,figsize=(10,5))"
   ]
  },
  {
   "cell_type": "code",
   "execution_count": 15,
   "metadata": {},
   "outputs": [
    {
     "data": {
      "text/plain": [
       "<matplotlib.axes._subplots.AxesSubplot at 0x20066617588>"
      ]
     },
     "execution_count": 15,
     "metadata": {},
     "output_type": "execute_result"
    },
    {
     "data": {
      "image/png": "[encoded data removed]",
      "text/plain": [
       "<Figure size 720x360 with 1 Axes>"
      ]
     },
     "metadata": {},
     "output_type": "display_data"
    }
   ],
   "source": [
    "df['reports'].hist(bins=40,figsize=(10,5))"
   ]
  },
  {
   "cell_type": "code",
   "execution_count": 19,
   "metadata": {},
   "outputs": [],
   "source": [
    "import cufflinks as cf"
   ]
  },
  {
   "cell_type": "code",
   "execution_count": 20,
   "metadata": {},
   "outputs": [
    {
     "data": {
      "text/html": [
       "        <script type=\"text/javascript\">\n",
       "        window.PlotlyConfig = {MathJaxConfig: 'local'};\n",
       "        if (window.MathJax) {MathJax.Hub.Config({SVG: {font: \"STIX-Web\"}});}\n",
       "        if (typeof require !== 'undefined') {\n",
       "        require.undef(\"plotly\");\n",
       "        requirejs.config({\n",
       "            paths: {\n",
       "                'plotly': ['https://cdn.plot.ly/plotly-latest.min']\n",
       "            }\n",
       "        });\n",
       "        require(['plotly'], function(Plotly) {\n",
       "            window._Plotly = Plotly;\n",
       "        });\n",
       "        }\n",
       "        </script>\n",
       "        "
      ]
     },
     "metadata": {},
     "output_type": "display_data"
    }
   ],
   "source": [
    "cf.go_offline()"
   ]
  },
  {
   "cell_type": "code",
   "execution_count": 21,
   "metadata": {},
   "outputs": [
    {
     "data": {
      "application/vnd.plotly.v1+json": {
       "config": {
        "linkText": "Export to plot.ly",
        "plotlyServerURL": "https://plot.ly",
        "showLink": true
       },
       "data": [
        {
         "histfunc": "count",
         "histnorm": "",
         "marker": {
          "color": "rgba(255, 153, 51, 1.0)",
          "line": {
           "color": "#4D5663",
           "width": 1.3
          }
         },
         "name": "income",
         "opacity": 0.8,
         "orientation": "v",
         "type": "histogram",
         "x": [
          4.52,
          2.42,
          4.5,
          2.54,
          9.7867,
          2.5,
          3.96,
          2.37,
          3.8,
          3.2,
          3.95,
          1.98,
          1.73,
          2.45,
          1.9080000000000001,
          3.2,
          4,
          3,
          9.9999,
          3.4,
          2.35,
          1.875,
          2,
          4,
          5.14,
          4.506,
          3.84,
          1.5,
          2.5,
          5.5,
          2.0272,
          3.2,
          3.15,
          2.4663,
          3,
          3.5412,
          2.2845,
          5.7,
          3.5,
          4.6,
          3,
          2.585,
          1.51,
          1.85,
          2.6,
          1.8,
          2,
          3.2628,
          2.35,
          7,
          3.6,
          2,
          1.7,
          2.8,
          2.4,
          3,
          4.8,
          3.18,
          1.8,
          1.5,
          3,
          2.28,
          2.8,
          2.7,
          4.9,
          2.5,
          6,
          3.9,
          5.1,
          3.074,
          2.4585,
          2,
          3.248,
          2.725,
          2.2,
          4.1,
          3.75,
          2.88,
          3.05,
          2.55,
          4,
          2.64,
          1.65,
          2.4,
          3.7099,
          7.24,
          4.386,
          3.3,
          2.3040000000000003,
          4.18,
          2.4875,
          2.8055,
          2.4,
          1.5,
          8.4,
          1.56,
          6,
          3.6,
          5,
          5.5,
          9.9999,
          4.55,
          2.9,
          1.8,
          4.2,
          3.92,
          3.625,
          2.48,
          9.9999,
          10.0393,
          2.95,
          5,
          2.4,
          13.5,
          4,
          3.9,
          2,
          2.15,
          3,
          4.3,
          9.9999,
          2.5,
          3,
          2.6,
          1.66,
          4.5,
          5,
          1.74,
          1.875,
          3,
          4.2,
          4.9,
          2.13,
          1.7,
          1.68,
          2.64,
          1.9680000000000002,
          3.3,
          1.5896,
          3.6,
          3,
          3.8,
          3.36,
          2.3204,
          7.8,
          2.5,
          1.5,
          3.5822,
          4,
          6.72,
          4.3,
          3.5,
          3.95,
          4,
          2.4,
          2.7,
          6.6,
          2.7,
          4.1,
          7.7010000000000005,
          2.8,
          3.12,
          2.3,
          3.67,
          6.5,
          2.56,
          3.5,
          3.24,
          3.48,
          2.938,
          2.475,
          3.12,
          2.5,
          3,
          6,
          2.6,
          3.9,
          2.5,
          3.3,
          5.905,
          7.8,
          2.06,
          5.6965,
          2.16,
          4.6,
          3.5,
          2.55,
          1.7472,
          1.95,
          5,
          2.8896,
          2.7,
          4,
          2.3,
          2.4,
          2.6,
          2.4,
          2.52,
          1.56,
          2.4,
          2,
          2.58,
          3.15,
          2.3,
          4.65,
          3.12,
          2,
          2.55,
          2.46,
          3.8,
          2.6372,
          7,
          2.8,
          3.1475,
          6,
          3.25,
          4.32,
          2.5,
          3,
          3.5,
          4.56,
          2.76,
          2.535,
          3.2388,
          3.84,
          1.32,
          3.9,
          2.04,
          7.2904,
          7.5,
          3.2604,
          1.632,
          8,
          2.2,
          5,
          3,
          2,
          1.54,
          1.5,
          3,
          5,
          4.7232,
          1.5,
          2.3,
          1.6,
          2.2,
          4.32,
          2.6,
          1.6752,
          2.8725,
          2.6,
          2.9,
          2.65,
          1.9,
          2.95,
          3.12,
          4.1125,
          6,
          2,
          3.38,
          3.5,
          2.6,
          3.5,
          2.8,
          5.9,
          5.4,
          2.8,
          3.9,
          3.4,
          2.08,
          2.5,
          1.95,
          2.1,
          3,
          3.2,
          2.6,
          3.0669999999999997,
          2.8,
          4.8,
          4.74,
          2.8,
          4.2,
          4,
          1.65,
          4.3,
          6.4532,
          3,
          1.75,
          1.8,
          2.15,
          7.88,
          2.6,
          2.42,
          2.8,
          3.64,
          9.9999,
          1.95,
          6.5,
          3.805,
          2.15,
          4,
          3.1,
          4.0104,
          4.58,
          1.8,
          1.7095,
          2.2593,
          3.5,
          9.9999,
          1.5678,
          2.9623,
          2.7,
          2.16,
          4,
          4.5,
          1.8,
          2.75,
          2.42,
          2.25,
          1.2,
          2.6,
          1.5,
          2.1,
          3.24,
          2.22,
          4.9,
          2.3,
          3.3,
          2.5,
          2.205,
          2.4,
          2.7,
          3.7,
          2.12,
          6.2,
          2.5,
          2,
          2.4,
          4.03,
          3,
          2.9,
          1.99,
          1.92,
          5,
          2.16,
          2.2,
          2.2375,
          2.4,
          1.9,
          5.5,
          2.16,
          7,
          2.6,
          2.5,
          3.9,
          5.2,
          3.25,
          3.6,
          10,
          3.7,
          4.467,
          5.2,
          4.8,
          1.5,
          1.5,
          1.8504,
          2.45,
          1.89,
          3.5,
          2.7885,
          4.5,
          2.8,
          2.8,
          4.5,
          3.8,
          5,
          2.7,
          2.5,
          3.2,
          1.92,
          2.3080000000000003,
          1.7,
          3,
          2.45,
          3.4,
          2.5,
          3,
          3.15,
          3.5,
          1.8,
          2.25,
          2,
          4.1,
          2.97,
          5.5,
          3.15,
          3.5,
          1.5344,
          5.1,
          2.25,
          3.41,
          3.7,
          3.4,
          4.14,
          4.8,
          7,
          7,
          2.2,
          2.06,
          1.536,
          4,
          10.5,
          3.05,
          3.4838,
          3,
          5.1,
          2.45,
          2,
          4,
          3.48,
          2,
          2.15,
          4.475,
          1.7,
          3,
          2.3558,
          4.5,
          3.7,
          5.5,
          3.3739999999999997,
          5.5,
          6,
          6.9,
          2.75,
          2.5,
          2,
          2.6875,
          2.6796,
          1.8,
          1.56,
          1.5,
          1.8804,
          2.52,
          2.2348,
          1.78,
          4.01,
          12.4999,
          1.6,
          5,
          2.275,
          3.4,
          1.75,
          3.25,
          3.9,
          1.85,
          4,
          4.3,
          3.5,
          8.1,
          4,
          2,
          3,
          5.3,
          2.6,
          2.52,
          2.2,
          2.5,
          3.5,
          4.35,
          1.6,
          2,
          4.8,
          3,
          1.6380000000000001,
          2.9,
          2.3779,
          2.3,
          8.1,
          3.57,
          1.944,
          2.75,
          3.5,
          7,
          2.8,
          1.95,
          6.5,
          2.5,
          3,
          1.8,
          2.6,
          3.6,
          2.3,
          1.78,
          3.86,
          4.9,
          3.6,
          3.235,
          1.85,
          1.85,
          1.56,
          4.075,
          3.3,
          2.51,
          4.375,
          2.35,
          4,
          5.1,
          3,
          3.5,
          3.5,
          5.5,
          3.8,
          1.79,
          5.1,
          8.94,
          7.1,
          2.4,
          3.305,
          6.5,
          4.81,
          3,
          2.7,
          5.4,
          8.124,
          3.04,
          2.08,
          1.511,
          3,
          2.6,
          2.5,
          3.5,
          2.4,
          2.32,
          2.58,
          2.1,
          2.35,
          2.8,
          3.7,
          1.68,
          2.64,
          2.3,
          6.888,
          4,
          2,
          1.97,
          3,
          2.75,
          5,
          2.1,
          4,
          3,
          3.3,
          2.35,
          2.16,
          3.9,
          2.3115,
          1.7,
          2,
          4.8,
          3,
          1.56,
          2,
          2.6,
          4.68,
          4,
          1.8744,
          3.1,
          2.8,
          2.04,
          2.1,
          2,
          5.6,
          3,
          2.4,
          1.85,
          2.9,
          2,
          1.89,
          2,
          1.6417,
          2.34,
          1.9,
          1.53,
          3.9946,
          1.6,
          1.8,
          3.7,
          2.1,
          2,
          2.6,
          2.675,
          4.16,
          2.1,
          2.4,
          3.12,
          3,
          3.115,
          1.6213,
          4.3681,
          2.5340000000000003,
          3.1,
          2.7161,
          4.04,
          2.7495,
          3,
          3.15,
          5.97,
          2.6,
          8.4,
          1.95,
          3,
          2.8,
          4.55,
          1.99,
          4.5,
          4,
          3.5,
          2.15,
          1.62,
          3.5,
          2.9,
          3.4064,
          4,
          2.6,
          2.0676,
          2.4,
          3.42,
          6.7,
          5.43,
          1.62,
          2.4192,
          3.4,
          3.6,
          2.5,
          1.75,
          2.5,
          4.5,
          2.4659999999999997,
          2.7,
          2.4,
          6.9,
          4.8,
          1.92,
          2.8,
          1.6949,
          3.5,
          2.25,
          2.315,
          4,
          4.5,
          3.1782,
          3,
          3,
          2,
          3.5,
          4,
          2.58,
          11.9999,
          3.7,
          1.4340000000000002,
          3.68,
          2.55,
          3.5,
          2.3,
          3.1894,
          2.35,
          1.97,
          3.6,
          3.2,
          2,
          2.85,
          3.095,
          1.5,
          4.8,
          2.6,
          2.85,
          3.35,
          1.8142,
          3.6,
          1.515,
          2.4,
          3,
          3.5,
          3,
          2.34,
          2.1,
          1.6,
          2.2159999999999997,
          3.65,
          3.2,
          2.6,
          6.1,
          3,
          4.5,
          2.184,
          3.25,
          2.2,
          2.8065,
          2.4304,
          6.7,
          4,
          5.16,
          5.1,
          4.2,
          5.6,
          1.86,
          1.64,
          6.8,
          1.8468,
          1.8,
          3,
          2.2,
          1.8,
          2.6,
          2,
          5,
          4.22,
          4.0188,
          3,
          3.1532,
          2.8,
          2.86,
          2.04,
          3.5,
          7.125,
          2.5,
          3.3,
          2.2,
          3.2,
          4,
          5.5689,
          7,
          2.3,
          5.5,
          2.5,
          2.5,
          8,
          1.83,
          2.9,
          4.7,
          1.725,
          1.5548,
          3.82,
          2.4,
          2.4,
          3,
          1.6,
          2.68,
          6.3,
          1.6,
          2.6,
          2.1,
          1.9324,
          2.5,
          1.8,
          3.56,
          3.4,
          2.55,
          4.92,
          3.9,
          5.2,
          9,
          6,
          7.5,
          9,
          2.1,
          3,
          2.6,
          5.48,
          8.2,
          2.5,
          3,
          6.5,
          7.572,
          2,
          3.25,
          3,
          7,
          7.5,
          3.8,
          3.7,
          3.4,
          2.85,
          2.6,
          1.5659999999999998,
          1.8,
          3.1,
          1.5,
          2.19,
          5.5,
          4.4,
          3,
          2.95,
          1.6,
          2,
          2.8542,
          2.2,
          3.65,
          1.7,
          1.65,
          2.66,
          2.75,
          1.56,
          8,
          2.0272,
          4,
          6.7,
          2.5,
          3,
          3.2,
          3.18,
          3.2,
          1.7305,
          2.4,
          2.25,
          3.9495,
          3,
          2.65,
          2.2359999999999998,
          4.7,
          3.48,
          2.55,
          2.77,
          3.1131,
          1.9680000000000002,
          1.8,
          9.4,
          5.5,
          1.5,
          2.7,
          2.35,
          4.6,
          10.9999,
          2.6545,
          7.35,
          3.2,
          6.2,
          3.27,
          3.7,
          1.75,
          2.425,
          2.7,
          3.7,
          3.2,
          3.1,
          9,
          5.5,
          4.1,
          3,
          2.8,
          5.1,
          7,
          2.3040000000000003,
          2.3,
          1.9,
          2.3,
          1.5,
          2.375,
          2.8,
          2.5224,
          2.2,
          3.2,
          3.7,
          1.8,
          2.35,
          1.82,
          5.5,
          2.6,
          2.15,
          3.8,
          2,
          2.45,
          3.5,
          2.8,
          1.99,
          2,
          2.1,
          2.79,
          2.32,
          4.6,
          2,
          3,
          3.3280000000000003,
          2.4752,
          4.3,
          1.77,
          2.45,
          1.85,
          2.23,
          2.5,
          3.5091,
          3.2875,
          4.232,
          1.85,
          2.2,
          3.5,
          3,
          1.8,
          1.7,
          5.5,
          2.5685,
          3.5,
          2.5,
          3.3026,
          2.25,
          10,
          2.9,
          2.95,
          1.6,
          3.4,
          2.1,
          3.2,
          3.5,
          2.47,
          2.6,
          4.0248,
          2.1,
          1.95,
          3.5995,
          3.7,
          3,
          4.5,
          2.3,
          3.5,
          2.1,
          5,
          2.45,
          3.5,
          2.5,
          3.6,
          2.656,
          2.5,
          2,
          3.52,
          1.8769,
          2.25,
          1.7123,
          4,
          2.16,
          3.3,
          7,
          2.1,
          3,
          3.5,
          2.07,
          2.8,
          5,
          2.1888,
          2,
          2.7,
          2.69,
          3.73,
          2,
          4.3,
          5.5,
          5.92,
          7.6,
          2.82,
          2.2,
          2.6611,
          7.5,
          4,
          6.5,
          5.6,
          2.1,
          4.5,
          2.51,
          10.032,
          3.5,
          3.5,
          3.9,
          2.5,
          5.2,
          1.5,
          9.9999,
          4.1,
          2.2,
          4.38,
          2.4852,
          6.6,
          2.74,
          2.7,
          3.2618,
          5.8,
          2.5,
          3.5,
          1.5,
          1.75,
          4.4,
          4.7,
          3.3,
          5.8,
          5.32,
          2.4,
          3.25,
          3.06,
          3,
          2.2,
          3,
          4.2,
          2.37,
          2.52,
          5.49,
          2.98,
          3.6,
          2.25,
          3.2239999999999998,
          5,
          2.67,
          3.75,
          3.75,
          3.7,
          3.3,
          7,
          3.3748,
          3.12,
          2.59,
          2.1,
          3,
          3,
          4.4,
          3.1,
          2.98,
          2.8,
          1.8339,
          3.2905,
          2.7,
          3.9,
          1.8,
          3.2,
          3.65,
          3.5,
          4.77,
          4.2,
          5,
          2,
          2.6,
          5,
          4,
          5.3726,
          2.7246,
          1.8,
          4,
          2.1,
          2.55,
          2.5,
          2,
          3,
          2.6,
          2.4,
          4,
          6.2,
          2.2,
          2,
          5.8,
          1.8,
          3.264,
          2.1,
          2.7456,
          3.7,
          4.815,
          3.05,
          2.4,
          5,
          2.6,
          4,
          6.8,
          1.94,
          2.45,
          4.53,
          6.825,
          3.85,
          2.75,
          3.5,
          3,
          2.3,
          1.8,
          2.2,
          4.8,
          2.04,
          1.68,
          2.7811,
          6,
          3.5,
          1.8,
          3.9,
          2,
          7.1195,
          1.85,
          1.6,
          4.85,
          2.825,
          2.7,
          1.45,
          1.8,
          3.7,
          1.9,
          2.62,
          3.75,
          4.5,
          3.7,
          3.8360000000000003,
          1.59,
          2.07,
          5.1,
          4.0128,
          4.4692,
          3.5,
          5,
          2.5,
          1.5,
          3.8425,
          3.6,
          2.95,
          2.385,
          2.16,
          2.0069999999999997,
          1.56,
          2,
          2.9,
          3.7,
          3.84,
          2.1375,
          2.4,
          2.4,
          2,
          1.548,
          2,
          3.1,
          2.5,
          5.1,
          2,
          3.6,
          3.3984,
          4.2,
          1.7,
          1.939,
          2.9,
          1.7,
          4.9,
          2.2224,
          6.1064,
          2.625,
          1.56,
          2.6519999999999997,
          2.8,
          1.6,
          5,
          2.04,
          5.04,
          1.92,
          3.4,
          3.2,
          3.1,
          1.8829,
          2.4,
          3,
          1.84,
          2.5,
          5.112,
          2.5,
          5.4,
          2.5,
          2.1,
          6,
          1.56,
          4.07,
          2.7,
          2.04,
          2.8,
          6.2,
          2.19,
          3.2,
          2.3,
          1.76,
          1.8,
          3.96,
          2.5,
          2.28,
          2.5,
          2.6,
          2.2,
          2.448,
          6.8,
          4.5,
          4.96,
          5,
          2.1,
          10.4,
          1.56,
          2.3,
          4.9875,
          5.6335,
          1.672,
          1.6,
          1.51,
          2.8463,
          2.3,
          3,
          2.2,
          0.21,
          2.8,
          1.8,
          2.2,
          3,
          2.4,
          1.2,
          6.8,
          1.5,
          2.7,
          3.5,
          2.1,
          2.5,
          5.47,
          2.35,
          1.65,
          9.2,
          7.29,
          2.72,
          3.6239999999999997,
          5.3,
          4.9,
          3.6208,
          2.136,
          2.5,
          0.49,
          4.3,
          6.3,
          2.4,
          2.8,
          5,
          2.8,
          2.8,
          2.65,
          1.6,
          2.1,
          2.408,
          3.1,
          2.616,
          11,
          1.8,
          2.5,
          1.8,
          2.7268,
          2.05,
          5.05,
          3.8,
          4.288,
          3.6,
          4.3,
          4.44,
          2.6,
          4.1,
          2.86,
          2.4,
          1.8,
          1.8,
          5.1,
          3.5606,
          4.15,
          2.0237,
          1.8,
          2.9,
          4,
          2.95,
          3.2,
          4.5,
          7,
          2.2,
          2.8,
          2.2,
          5.77,
          2.4317,
          7,
          2.15,
          5.2,
          4.7,
          2.5,
          5,
          3.5,
          2.45,
          9.9999,
          3.2,
          3.54,
          3.1144,
          2.25,
          6,
          1.68,
          2.4,
          3.2,
          6,
          1.75,
          4.5,
          2.5,
          2.55,
          3.26,
          3.6,
          2.78,
          4.4,
          3.2,
          1.6,
          1.636,
          2.7,
          3.5,
          3.4224,
          6.5,
          2,
          3.58,
          2.5,
          2,
          2.512,
          2.3004,
          3.86,
          2.18,
          4.566,
          3.1919999999999997,
          4.6,
          3.7,
          3.7
         ]
        }
       ],
       "layout": {
        "barmode": "overlay",
        "legend": {
         "bgcolor": "#F5F6F9",
         "font": {
          "color": "#4D5663"
         }
        },
        "paper_bgcolor": "#F5F6F9",
        "plot_bgcolor": "#F5F6F9",
        "template": {
         "data": {
          "bar": [
           {
            "error_x": {
             "color": "#2a3f5f"
            },
            "error_y": {
             "color": "#2a3f5f"
            },
            "marker": {
             "line": {
              "color": "#E5ECF6",
              "width": 0.5
             }
            },
            "type": "bar"
           }
          ],
          "barpolar": [
           {
            "marker": {
             "line": {
              "color": "#E5ECF6",
              "width": 0.5
             }
            },
            "type": "barpolar"
           }
          ],
          "carpet": [
           {
            "aaxis": {
             "endlinecolor": "#2a3f5f",
             "gridcolor": "white",
             "linecolor": "white",
             "minorgridcolor": "white",
             "startlinecolor": "#2a3f5f"
            },
            "baxis": {
             "endlinecolor": "#2a3f5f",
             "gridcolor": "white",
             "linecolor": "white",
             "minorgridcolor": "white",
             "startlinecolor": "#2a3f5f"
            },
            "type": "carpet"
           }
          ],
          "choropleth": [
           {
            "colorbar": {
             "outlinewidth": 0,
             "ticks": ""
            },
            "type": "choropleth"
           }
          ],
          "contour": [
           {
            "colorbar": {
             "outlinewidth": 0,
             "ticks": ""
            },
            "colorscale": [
             [
              0,
              "#0d0887"
             ],
             [
              0.1111111111111111,
              "#46039f"
             ],
             [
              0.2222222222222222,
              "#7201a8"
             ],
             [
              0.3333333333333333,
              "#9c179e"
             ],
             [
              0.4444444444444444,
              "#bd3786"
             ],
             [
              0.5555555555555556,
              "#d8576b"
             ],
             [
              0.6666666666666666,
              "#ed7953"
             ],
             [
              0.7777777777777778,
              "#fb9f3a"
             ],
             [
              0.8888888888888888,
              "#fdca26"
             ],
             [
              1,
              "#f0f921"
             ]
            ],
            "type": "contour"
           }
          ],
          "contourcarpet": [
           {
            "colorbar": {
             "outlinewidth": 0,
             "ticks": ""
            },
            "type": "contourcarpet"
           }
          ],
          "heatmap": [
           {
            "colorbar": {
             "outlinewidth": 0,
             "ticks": ""
            },
            "colorscale": [
             [
              0,
              "#0d0887"
             ],
             [
              0.1111111111111111,
              "#46039f"
             ],
             [
              0.2222222222222222,
              "#7201a8"
             ],
             [
              0.3333333333333333,
              "#9c179e"
             ],
             [
              0.4444444444444444,
              "#bd3786"
             ],
             [
              0.5555555555555556,
              "#d8576b"
             ],
             [
              0.6666666666666666,
              "#ed7953"
             ],
             [
              0.7777777777777778,
              "#fb9f3a"
             ],
             [
              0.8888888888888888,
              "#fdca26"
             ],
             [
              1,
              "#f0f921"
             ]
            ],
            "type": "heatmap"
           }
          ],
          "heatmapgl": [
           {
            "colorbar": {
             "outlinewidth": 0,
             "ticks": ""
            },
            "colorscale": [
             [
              0,
              "#0d0887"
             ],
             [
              0.1111111111111111,
              "#46039f"
             ],
             [
              0.2222222222222222,
              "#7201a8"
             ],
             [
              0.3333333333333333,
              "#9c179e"
             ],
             [
              0.4444444444444444,
              "#bd3786"
             ],
             [
              0.5555555555555556,
              "#d8576b"
             ],
             [
              0.6666666666666666,
              "#ed7953"
             ],
             [
              0.7777777777777778,
              "#fb9f3a"
             ],
             [
              0.8888888888888888,
              "#fdca26"
             ],
             [
              1,
              "#f0f921"
             ]
            ],
            "type": "heatmapgl"
           }
          ],
          "histogram": [
           {
            "marker": {
             "colorbar": {
              "outlinewidth": 0,
              "ticks": ""
             }
            },
            "type": "histogram"
           }
          ],
          "histogram2d": [
           {
            "colorbar": {
             "outlinewidth": 0,
             "ticks": ""
            },
            "colorscale": [
             [
              0,
              "#0d0887"
             ],
             [
              0.1111111111111111,
              "#46039f"
             ],
             [
              0.2222222222222222,
              "#7201a8"
             ],
             [
              0.3333333333333333,
              "#9c179e"
             ],
             [
              0.4444444444444444,
              "#bd3786"
             ],
             [
              0.5555555555555556,
              "#d8576b"
             ],
             [
              0.6666666666666666,
              "#ed7953"
             ],
             [
              0.7777777777777778,
              "#fb9f3a"
             ],
             [
              0.8888888888888888,
              "#fdca26"
             ],
             [
              1,
              "#f0f921"
             ]
            ],
            "type": "histogram2d"
           }
          ],
          "histogram2dcontour": [
           {
            "colorbar": {
             "outlinewidth": 0,
             "ticks": ""
            },
            "colorscale": [
             [
              0,
              "#0d0887"
             ],
             [
              0.1111111111111111,
              "#46039f"
             ],
             [
              0.2222222222222222,
              "#7201a8"
             ],
             [
              0.3333333333333333,
              "#9c179e"
             ],
             [
              0.4444444444444444,
              "#bd3786"
             ],
             [
              0.5555555555555556,
              "#d8576b"
             ],
             [
              0.6666666666666666,
              "#ed7953"
             ],
             [
              0.7777777777777778,
              "#fb9f3a"
             ],
             [
              0.8888888888888888,
              "#fdca26"
             ],
             [
              1,
              "#f0f921"
             ]
            ],
            "type": "histogram2dcontour"
           }
          ],
          "mesh3d": [
           {
            "colorbar": {
             "outlinewidth": 0,
             "ticks": ""
            },
            "type": "mesh3d"
           }
          ],
          "parcoords": [
           {
            "line": {
             "colorbar": {
              "outlinewidth": 0,
              "ticks": ""
             }
            },
            "type": "parcoords"
           }
          ],
          "pie": [
           {
            "automargin": true,
            "type": "pie"
           }
          ],
          "scatter": [
           {
            "marker": {
             "colorbar": {
              "outlinewidth": 0,
              "ticks": ""
             }
            },
            "type": "scatter"
           }
          ],
          "scatter3d": [
           {
            "line": {
             "colorbar": {
              "outlinewidth": 0,
              "ticks": ""
             }
            },
            "marker": {
             "colorbar": {
              "outlinewidth": 0,
              "ticks": ""
             }
            },
            "type": "scatter3d"
           }
          ],
          "scattercarpet": [
           {
            "marker": {
             "colorbar": {
              "outlinewidth": 0,
              "ticks": ""
             }
            },
            "type": "scattercarpet"
           }
          ],
          "scattergeo": [
           {
            "marker": {
             "colorbar": {
              "outlinewidth": 0,
              "ticks": ""
             }
            },
            "type": "scattergeo"
           }
          ],
          "scattergl": [
           {
            "marker": {
             "colorbar": {
              "outlinewidth": 0,
              "ticks": ""
             }
            },
            "type": "scattergl"
           }
          ],
          "scattermapbox": [
           {
            "marker": {
             "colorbar": {
              "outlinewidth": 0,
              "ticks": ""
             }
            },
            "type": "scattermapbox"
           }
          ],
          "scatterpolar": [
           {
            "marker": {
             "colorbar": {
              "outlinewidth": 0,
              "ticks": ""
             }
            },
            "type": "scatterpolar"
           }
          ],
          "scatterpolargl": [
           {
            "marker": {
             "colorbar": {
              "outlinewidth": 0,
              "ticks": ""
             }
            },
            "type": "scatterpolargl"
           }
          ],
          "scatterternary": [
           {
            "marker": {
             "colorbar": {
              "outlinewidth": 0,
              "ticks": ""
             }
            },
            "type": "scatterternary"
           }
          ],
          "surface": [
           {
            "colorbar": {
             "outlinewidth": 0,
             "ticks": ""
            },
            "colorscale": [
             [
              0,
              "#0d0887"
             ],
             [
              0.1111111111111111,
              "#46039f"
             ],
             [
              0.2222222222222222,
              "#7201a8"
             ],
             [
              0.3333333333333333,
              "#9c179e"
             ],
             [
              0.4444444444444444,
              "#bd3786"
             ],
             [
              0.5555555555555556,
              "#d8576b"
             ],
             [
              0.6666666666666666,
              "#ed7953"
             ],
             [
              0.7777777777777778,
              "#fb9f3a"
             ],
             [
              0.8888888888888888,
              "#fdca26"
             ],
             [
              1,
              "#f0f921"
             ]
            ],
            "type": "surface"
           }
          ],
          "table": [
           {
            "cells": {
             "fill": {
              "color": "#EBF0F8"
             },
             "line": {
              "color": "white"
             }
            },
            "header": {
             "fill": {
              "color": "#C8D4E3"
             },
             "line": {
              "color": "white"
             }
            },
            "type": "table"
           }
          ]
         },
         "layout": {
          "annotationdefaults": {
           "arrowcolor": "#2a3f5f",
           "arrowhead": 0,
           "arrowwidth": 1
          },
          "coloraxis": {
           "colorbar": {
            "outlinewidth": 0,
            "ticks": ""
           }
          },
          "colorscale": {
           "diverging": [
            [
             0,
             "#8e0152"
            ],
            [
             0.1,
             "#c51b7d"
            ],
            [
             0.2,
             "#de77ae"
            ],
            [
             0.3,
             "#f1b6da"
            ],
            [
             0.4,
             "#fde0ef"
            ],
            [
             0.5,
             "#f7f7f7"
            ],
            [
             0.6,
             "#e6f5d0"
            ],
            [
             0.7,
             "#b8e186"
            ],
            [
             0.8,
             "#7fbc41"
            ],
            [
             0.9,
             "#4d9221"
            ],
            [
             1,
             "#276419"
            ]
           ],
           "sequential": [
            [
             0,
             "#0d0887"
            ],
            [
             0.1111111111111111,
             "#46039f"
            ],
            [
             0.2222222222222222,
             "#7201a8"
            ],
            [
             0.3333333333333333,
             "#9c179e"
            ],
            [
             0.4444444444444444,
             "#bd3786"
            ],
            [
             0.5555555555555556,
             "#d8576b"
            ],
            [
             0.6666666666666666,
             "#ed7953"
            ],
            [
             0.7777777777777778,
             "#fb9f3a"
            ],
            [
             0.8888888888888888,
             "#fdca26"
            ],
            [
             1,
             "#f0f921"
            ]
           ],
           "sequentialminus": [
            [
             0,
             "#0d0887"
            ],
            [
             0.1111111111111111,
             "#46039f"
            ],
            [
             0.2222222222222222,
             "#7201a8"
            ],
            [
             0.3333333333333333,
             "#9c179e"
            ],
            [
             0.4444444444444444,
             "#bd3786"
            ],
            [
             0.5555555555555556,
             "#d8576b"
            ],
            [
             0.6666666666666666,
             "#ed7953"
            ],
            [
             0.7777777777777778,
             "#fb9f3a"
            ],
            [
             0.8888888888888888,
             "#fdca26"
            ],
            [
             1,
             "#f0f921"
            ]
           ]
          },
          "colorway": [
           "#636efa",
           "#EF553B",
           "#00cc96",
           "#ab63fa",
           "#FFA15A",
           "#19d3f3",
           "#FF6692",
           "#B6E880",
           "#FF97FF",
           "#FECB52"
          ],
          "font": {
           "color": "#2a3f5f"
          },
          "geo": {
           "bgcolor": "white",
           "lakecolor": "white",
           "landcolor": "#E5ECF6",
           "showlakes": true,
           "showland": true,
           "subunitcolor": "white"
          },
          "hoverlabel": {
           "align": "left"
          },
          "hovermode": "closest",
          "mapbox": {
           "style": "light"
          },
          "paper_bgcolor": "white",
          "plot_bgcolor": "#E5ECF6",
          "polar": {
           "angularaxis": {
            "gridcolor": "white",
            "linecolor": "white",
            "ticks": ""
           },
           "bgcolor": "#E5ECF6",
           "radialaxis": {
            "gridcolor": "white",
            "linecolor": "white",
            "ticks": ""
           }
          },
          "scene": {
           "xaxis": {
            "backgroundcolor": "#E5ECF6",
            "gridcolor": "white",
            "gridwidth": 2,
            "linecolor": "white",
            "showbackground": true,
            "ticks": "",
            "zerolinecolor": "white"
           },
           "yaxis": {
            "backgroundcolor": "#E5ECF6",
            "gridcolor": "white",
            "gridwidth": 2,
            "linecolor": "white",
            "showbackground": true,
            "ticks": "",
            "zerolinecolor": "white"
           },
           "zaxis": {
            "backgroundcolor": "#E5ECF6",
            "gridcolor": "white",
            "gridwidth": 2,
            "linecolor": "white",
            "showbackground": true,
            "ticks": "",
            "zerolinecolor": "white"
           }
          },
          "shapedefaults": {
           "line": {
            "color": "#2a3f5f"
           }
          },
          "ternary": {
           "aaxis": {
            "gridcolor": "white",
            "linecolor": "white",
            "ticks": ""
           },
           "baxis": {
            "gridcolor": "white",
            "linecolor": "white",
            "ticks": ""
           },
           "bgcolor": "#E5ECF6",
           "caxis": {
            "gridcolor": "white",
            "linecolor": "white",
            "ticks": ""
           }
          },
          "title": {
           "x": 0.05
          },
          "xaxis": {
           "automargin": true,
           "gridcolor": "white",
           "linecolor": "white",
           "ticks": "",
           "title": {
            "standoff": 15
           },
           "zerolinecolor": "white",
           "zerolinewidth": 2
          },
          "yaxis": {
           "automargin": true,
           "gridcolor": "white",
           "linecolor": "white",
           "ticks": "",
           "title": {
            "standoff": 15
           },
           "zerolinecolor": "white",
           "zerolinewidth": 2
          }
         }
        },
        "title": {
         "font": {
          "color": "#4D5663"
         }
        },
        "xaxis": {
         "gridcolor": "#E1E5ED",
         "showgrid": true,
         "tickfont": {
          "color": "#4D5663"
         },
         "title": {
          "font": {
           "color": "#4D5663"
          },
          "text": ""
         },
         "zerolinecolor": "#E1E5ED"
        },
        "yaxis": {
         "gridcolor": "#E1E5ED",
         "showgrid": true,
         "tickfont": {
          "color": "#4D5663"
         },
         "title": {
          "font": {
           "color": "#4D5663"
          },
          "text": ""
         },
         "zerolinecolor": "#E1E5ED"
        }
       }
      },
      "text/html": [
       "<div>                            <div id=\"d7c43f98-7325-4aa0-b493-74b26a1b2cc2\" class=\"plotly-graph-div\" style=\"height:525px; width:100%;\"></div>            <script type=\"text/javascript\">                require([\"plotly\"], function(Plotly) {                    window.PLOTLYENV=window.PLOTLYENV || {};\n",
       "                    window.PLOTLYENV.BASE_URL='https://plot.ly';                                    if (document.getElementById(\"d7c43f98-7325-4aa0-b493-74b26a1b2cc2\")) {                    Plotly.newPlot(                        \"d7c43f98-7325-4aa0-b493-74b26a1b2cc2\",                        [{\"histfunc\": \"count\", \"histnorm\": \"\", \"marker\": {\"color\": \"rgba(255, 153, 51, 1.0)\", \"line\": {\"color\": \"#4D5663\", \"width\": 1.3}}, \"name\": \"income\", \"opacity\": 0.8, \"orientation\": \"v\", \"type\": \"histogram\", \"x\": [4.52, 2.42, 4.5, 2.54, 9.7867, 2.5, 3.96, 2.37, 3.8, 3.2, 3.95, 1.98, 1.73, 2.45, 1.9080000000000001, 3.2, 4.0, 3.0, 9.9999, 3.4, 2.35, 1.875, 2.0, 4.0, 5.14, 4.506, 3.84, 1.5, 2.5, 5.5, 2.0272, 3.2, 3.15, 2.4663, 3.0, 3.5412, 2.2845, 5.7, 3.5, 4.6, 3.0, 2.585, 1.51, 1.85, 2.6, 1.8, 2.0, 3.2628, 2.35, 7.0, 3.6, 2.0, 1.7, 2.8, 2.4, 3.0, 4.8, 3.18, 1.8, 1.5, 3.0, 2.28, 2.8, 2.7, 4.9, 2.5, 6.0, 3.9, 5.1, 3.074, 2.4585, 2.0, 3.248, 2.725, 2.2, 4.1, 3.75, 2.88, 3.05, 2.55, 4.0, 2.64, 1.65, 2.4, 3.7099, 7.24, 4.386, 3.3, 2.3040000000000003, 4.18, 2.4875, 2.8055, 2.4, 1.5, 8.4, 1.56, 6.0, 3.6, 5.0, 5.5, 9.9999, 4.55, 2.9, 1.8, 4.2, 3.92, 3.625, 2.48, 9.9999, 10.0393, 2.95, 5.0, 2.4, 13.5, 4.0, 3.9, 2.0, 2.15, 3.0, 4.3, 9.9999, 2.5, 3.0, 2.6, 1.66, 4.5, 5.0, 1.74, 1.875, 3.0, 4.2, 4.9, 2.13, 1.7, 1.68, 2.64, 1.9680000000000002, 3.3, 1.5896, 3.6, 3.0, 3.8, 3.36, 2.3204, 7.8, 2.5, 1.5, 3.5822, 4.0, 6.72, 4.3, 3.5, 3.95, 4.0, 2.4, 2.7, 6.6, 2.7, 4.1, 7.7010000000000005, 2.8, 3.12, 2.3, 3.67, 6.5, 2.56, 3.5, 3.24, 3.48, 2.938, 2.475, 3.12, 2.5, 3.0, 6.0, 2.6, 3.9, 2.5, 3.3, 5.905, 7.8, 2.06, 5.6965, 2.16, 4.6, 3.5, 2.55, 1.7472, 1.95, 5.0, 2.8896, 2.7, 4.0, 2.3, 2.4, 2.6, 2.4, 2.52, 1.56, 2.4, 2.0, 2.58, 3.15, 2.3, 4.65, 3.12, 2.0, 2.55, 2.46, 3.8, 2.6372, 7.0, 2.8, 3.1475, 6.0, 3.25, 4.32, 2.5, 3.0, 3.5, 4.56, 2.76, 2.535, 3.2388, 3.84, 1.32, 3.9, 2.04, 7.2904, 7.5, 3.2604, 1.632, 8.0, 2.2, 5.0, 3.0, 2.0, 1.54, 1.5, 3.0, 5.0, 4.7232, 1.5, 2.3, 1.6, 2.2, 4.32, 2.6, 1.6752, 2.8725, 2.6, 2.9, 2.65, 1.9, 2.95, 3.12, 4.1125, 6.0, 2.0, 3.38, 3.5, 2.6, 3.5, 2.8, 5.9, 5.4, 2.8, 3.9, 3.4, 2.08, 2.5, 1.95, 2.1, 3.0, 3.2, 2.6, 3.0669999999999997, 2.8, 4.8, 4.74, 2.8, 4.2, 4.0, 1.65, 4.3, 6.4532, 3.0, 1.75, 1.8, 2.15, 7.88, 2.6, 2.42, 2.8, 3.64, 9.9999, 1.95, 6.5, 3.805, 2.15, 4.0, 3.1, 4.0104, 4.58, 1.8, 1.7095, 2.2593, 3.5, 9.9999, 1.5678, 2.9623, 2.7, 2.16, 4.0, 4.5, 1.8, 2.75, 2.42, 2.25, 1.2, 2.6, 1.5, 2.1, 3.24, 2.22, 4.9, 2.3, 3.3, 2.5, 2.205, 2.4, 2.7, 3.7, 2.12, 6.2, 2.5, 2.0, 2.4, 4.03, 3.0, 2.9, 1.99, 1.92, 5.0, 2.16, 2.2, 2.2375, 2.4, 1.9, 5.5, 2.16, 7.0, 2.6, 2.5, 3.9, 5.2, 3.25, 3.6, 10.0, 3.7, 4.467, 5.2, 4.8, 1.5, 1.5, 1.8504, 2.45, 1.89, 3.5, 2.7885, 4.5, 2.8, 2.8, 4.5, 3.8, 5.0, 2.7, 2.5, 3.2, 1.92, 2.3080000000000003, 1.7, 3.0, 2.45, 3.4, 2.5, 3.0, 3.15, 3.5, 1.8, 2.25, 2.0, 4.1, 2.97, 5.5, 3.15, 3.5, 1.5344, 5.1, 2.25, 3.41, 3.7, 3.4, 4.14, 4.8, 7.0, 7.0, 2.2, 2.06, 1.536, 4.0, 10.5, 3.05, 3.4838, 3.0, 5.1, 2.45, 2.0, 4.0, 3.48, 2.0, 2.15, 4.475, 1.7, 3.0, 2.3558, 4.5, 3.7, 5.5, 3.3739999999999997, 5.5, 6.0, 6.9, 2.75, 2.5, 2.0, 2.6875, 2.6796, 1.8, 1.56, 1.5, 1.8804, 2.52, 2.2348, 1.78, 4.01, 12.4999, 1.6, 5.0, 2.275, 3.4, 1.75, 3.25, 3.9, 1.85, 4.0, 4.3, 3.5, 8.1, 4.0, 2.0, 3.0, 5.3, 2.6, 2.52, 2.2, 2.5, 3.5, 4.35, 1.6, 2.0, 4.8, 3.0, 1.6380000000000001, 2.9, 2.3779, 2.3, 8.1, 3.57, 1.944, 2.75, 3.5, 7.0, 2.8, 1.95, 6.5, 2.5, 3.0, 1.8, 2.6, 3.6, 2.3, 1.78, 3.86, 4.9, 3.6, 3.235, 1.85, 1.85, 1.56, 4.075, 3.3, 2.51, 4.375, 2.35, 4.0, 5.1, 3.0, 3.5, 3.5, 5.5, 3.8, 1.79, 5.1, 8.94, 7.1, 2.4, 3.305, 6.5, 4.81, 3.0, 2.7, 5.4, 8.124, 3.04, 2.08, 1.511, 3.0, 2.6, 2.5, 3.5, 2.4, 2.32, 2.58, 2.1, 2.35, 2.8, 3.7, 1.68, 2.64, 2.3, 6.888, 4.0, 2.0, 1.97, 3.0, 2.75, 5.0, 2.1, 4.0, 3.0, 3.3, 2.35, 2.16, 3.9, 2.3115, 1.7, 2.0, 4.8, 3.0, 1.56, 2.0, 2.6, 4.68, 4.0, 1.8744, 3.1, 2.8, 2.04, 2.1, 2.0, 5.6, 3.0, 2.4, 1.85, 2.9, 2.0, 1.89, 2.0, 1.6417, 2.34, 1.9, 1.53, 3.9946, 1.6, 1.8, 3.7, 2.1, 2.0, 2.6, 2.675, 4.16, 2.1, 2.4, 3.12, 3.0, 3.115, 1.6213, 4.3681, 2.5340000000000003, 3.1, 2.7161, 4.04, 2.7495, 3.0, 3.15, 5.97, 2.6, 8.4, 1.95, 3.0, 2.8, 4.55, 1.99, 4.5, 4.0, 3.5, 2.15, 1.62, 3.5, 2.9, 3.4064, 4.0, 2.6, 2.0676, 2.4, 3.42, 6.7, 5.43, 1.62, 2.4192, 3.4, 3.6, 2.5, 1.75, 2.5, 4.5, 2.4659999999999997, 2.7, 2.4, 6.9, 4.8, 1.92, 2.8, 1.6949, 3.5, 2.25, 2.315, 4.0, 4.5, 3.1782, 3.0, 3.0, 2.0, 3.5, 4.0, 2.58, 11.9999, 3.7, 1.4340000000000002, 3.68, 2.55, 3.5, 2.3, 3.1894, 2.35, 1.97, 3.6, 3.2, 2.0, 2.85, 3.095, 1.5, 4.8, 2.6, 2.85, 3.35, 1.8142, 3.6, 1.515, 2.4, 3.0, 3.5, 3.0, 2.34, 2.1, 1.6, 2.2159999999999997, 3.65, 3.2, 2.6, 6.1, 3.0, 4.5, 2.184, 3.25, 2.2, 2.8065, 2.4304, 6.7, 4.0, 5.16, 5.1, 4.2, 5.6, 1.86, 1.64, 6.8, 1.8468, 1.8, 3.0, 2.2, 1.8, 2.6, 2.0, 5.0, 4.22, 4.0188, 3.0, 3.1532, 2.8, 2.86, 2.04, 3.5, 7.125, 2.5, 3.3, 2.2, 3.2, 4.0, 5.5689, 7.0, 2.3, 5.5, 2.5, 2.5, 8.0, 1.83, 2.9, 4.7, 1.725, 1.5548, 3.82, 2.4, 2.4, 3.0, 1.6, 2.68, 6.3, 1.6, 2.6, 2.1, 1.9324, 2.5, 1.8, 3.56, 3.4, 2.55, 4.92, 3.9, 5.2, 9.0, 6.0, 7.5, 9.0, 2.1, 3.0, 2.6, 5.48, 8.2, 2.5, 3.0, 6.5, 7.572, 2.0, 3.25, 3.0, 7.0, 7.5, 3.8, 3.7, 3.4, 2.85, 2.6, 1.5659999999999998, 1.8, 3.1, 1.5, 2.19, 5.5, 4.4, 3.0, 2.95, 1.6, 2.0, 2.8542, 2.2, 3.65, 1.7, 1.65, 2.66, 2.75, 1.56, 8.0, 2.0272, 4.0, 6.7, 2.5, 3.0, 3.2, 3.18, 3.2, 1.7305, 2.4, 2.25, 3.9495, 3.0, 2.65, 2.2359999999999998, 4.7, 3.48, 2.55, 2.77, 3.1131, 1.9680000000000002, 1.8, 9.4, 5.5, 1.5, 2.7, 2.35, 4.6, 10.9999, 2.6545, 7.35, 3.2, 6.2, 3.27, 3.7, 1.75, 2.425, 2.7, 3.7, 3.2, 3.1, 9.0, 5.5, 4.1, 3.0, 2.8, 5.1, 7.0, 2.3040000000000003, 2.3, 1.9, 2.3, 1.5, 2.375, 2.8, 2.5224, 2.2, 3.2, 3.7, 1.8, 2.35, 1.82, 5.5, 2.6, 2.15, 3.8, 2.0, 2.45, 3.5, 2.8, 1.99, 2.0, 2.1, 2.79, 2.32, 4.6, 2.0, 3.0, 3.3280000000000003, 2.4752, 4.3, 1.77, 2.45, 1.85, 2.23, 2.5, 3.5091, 3.2875, 4.232, 1.85, 2.2, 3.5, 3.0, 1.8, 1.7, 5.5, 2.5685, 3.5, 2.5, 3.3026, 2.25, 10.0, 2.9, 2.95, 1.6, 3.4, 2.1, 3.2, 3.5, 2.47, 2.6, 4.0248, 2.1, 1.95, 3.5995, 3.7, 3.0, 4.5, 2.3, 3.5, 2.1, 5.0, 2.45, 3.5, 2.5, 3.6, 2.656, 2.5, 2.0, 3.52, 1.8769, 2.25, 1.7123, 4.0, 2.16, 3.3, 7.0, 2.1, 3.0, 3.5, 2.07, 2.8, 5.0, 2.1888, 2.0, 2.7, 2.69, 3.73, 2.0, 4.3, 5.5, 5.92, 7.6, 2.82, 2.2, 2.6611, 7.5, 4.0, 6.5, 5.6, 2.1, 4.5, 2.51, 10.032, 3.5, 3.5, 3.9, 2.5, 5.2, 1.5, 9.9999, 4.1, 2.2, 4.38, 2.4852, 6.6, 2.74, 2.7, 3.2618, 5.8, 2.5, 3.5, 1.5, 1.75, 4.4, 4.7, 3.3, 5.8, 5.32, 2.4, 3.25, 3.06, 3.0, 2.2, 3.0, 4.2, 2.37, 2.52, 5.49, 2.98, 3.6, 2.25, 3.2239999999999998, 5.0, 2.67, 3.75, 3.75, 3.7, 3.3, 7.0, 3.3748, 3.12, 2.59, 2.1, 3.0, 3.0, 4.4, 3.1, 2.98, 2.8, 1.8339, 3.2905, 2.7, 3.9, 1.8, 3.2, 3.65, 3.5, 4.77, 4.2, 5.0, 2.0, 2.6, 5.0, 4.0, 5.3726, 2.7246, 1.8, 4.0, 2.1, 2.55, 2.5, 2.0, 3.0, 2.6, 2.4, 4.0, 6.2, 2.2, 2.0, 5.8, 1.8, 3.264, 2.1, 2.7456, 3.7, 4.815, 3.05, 2.4, 5.0, 2.6, 4.0, 6.8, 1.94, 2.45, 4.53, 6.825, 3.85, 2.75, 3.5, 3.0, 2.3, 1.8, 2.2, 4.8, 2.04, 1.68, 2.7811, 6.0, 3.5, 1.8, 3.9, 2.0, 7.1195, 1.85, 1.6, 4.85, 2.825, 2.7, 1.45, 1.8, 3.7, 1.9, 2.62, 3.75, 4.5, 3.7, 3.8360000000000003, 1.59, 2.07, 5.1, 4.0128, 4.4692, 3.5, 5.0, 2.5, 1.5, 3.8425, 3.6, 2.95, 2.385, 2.16, 2.0069999999999997, 1.56, 2.0, 2.9, 3.7, 3.84, 2.1375, 2.4, 2.4, 2.0, 1.548, 2.0, 3.1, 2.5, 5.1, 2.0, 3.6, 3.3984, 4.2, 1.7, 1.939, 2.9, 1.7, 4.9, 2.2224, 6.1064, 2.625, 1.56, 2.6519999999999997, 2.8, 1.6, 5.0, 2.04, 5.04, 1.92, 3.4, 3.2, 3.1, 1.8829, 2.4, 3.0, 1.84, 2.5, 5.112, 2.5, 5.4, 2.5, 2.1, 6.0, 1.56, 4.07, 2.7, 2.04, 2.8, 6.2, 2.19, 3.2, 2.3, 1.76, 1.8, 3.96, 2.5, 2.28, 2.5, 2.6, 2.2, 2.448, 6.8, 4.5, 4.96, 5.0, 2.1, 10.4, 1.56, 2.3, 4.9875, 5.6335, 1.672, 1.6, 1.51, 2.8463, 2.3, 3.0, 2.2, 0.21, 2.8, 1.8, 2.2, 3.0, 2.4, 1.2, 6.8, 1.5, 2.7, 3.5, 2.1, 2.5, 5.47, 2.35, 1.65, 9.2, 7.29, 2.72, 3.6239999999999997, 5.3, 4.9, 3.6208, 2.136, 2.5, 0.49, 4.3, 6.3, 2.4, 2.8, 5.0, 2.8, 2.8, 2.65, 1.6, 2.1, 2.408, 3.1, 2.616, 11.0, 1.8, 2.5, 1.8, 2.7268, 2.05, 5.05, 3.8, 4.288, 3.6, 4.3, 4.44, 2.6, 4.1, 2.86, 2.4, 1.8, 1.8, 5.1, 3.5606, 4.15, 2.0237, 1.8, 2.9, 4.0, 2.95, 3.2, 4.5, 7.0, 2.2, 2.8, 2.2, 5.77, 2.4317, 7.0, 2.15, 5.2, 4.7, 2.5, 5.0, 3.5, 2.45, 9.9999, 3.2, 3.54, 3.1144, 2.25, 6.0, 1.68, 2.4, 3.2, 6.0, 1.75, 4.5, 2.5, 2.55, 3.26, 3.6, 2.78, 4.4, 3.2, 1.6, 1.636, 2.7, 3.5, 3.4224, 6.5, 2.0, 3.58, 2.5, 2.0, 2.512, 2.3004, 3.86, 2.18, 4.566, 3.1919999999999997, 4.6, 3.7, 3.7]}],                        {\"barmode\": \"overlay\", \"legend\": {\"bgcolor\": \"#F5F6F9\", \"font\": {\"color\": \"#4D5663\"}}, \"paper_bgcolor\": \"#F5F6F9\", \"plot_bgcolor\": \"#F5F6F9\", \"template\": {\"data\": {\"bar\": [{\"error_x\": {\"color\": \"#2a3f5f\"}, \"error_y\": {\"color\": \"#2a3f5f\"}, \"marker\": {\"line\": {\"color\": \"#E5ECF6\", \"width\": 0.5}}, \"type\": \"bar\"}], \"barpolar\": [{\"marker\": {\"line\": {\"color\": \"#E5ECF6\", \"width\": 0.5}}, \"type\": \"barpolar\"}], \"carpet\": [{\"aaxis\": {\"endlinecolor\": \"#2a3f5f\", \"gridcolor\": \"white\", \"linecolor\": \"white\", \"minorgridcolor\": \"white\", \"startlinecolor\": \"#2a3f5f\"}, \"baxis\": {\"endlinecolor\": \"#2a3f5f\", \"gridcolor\": \"white\", \"linecolor\": \"white\", \"minorgridcolor\": \"white\", \"startlinecolor\": \"#2a3f5f\"}, \"type\": \"carpet\"}], \"choropleth\": [{\"colorbar\": {\"outlinewidth\": 0, \"ticks\": \"\"}, \"type\": \"choropleth\"}], \"contour\": [{\"colorbar\": {\"outlinewidth\": 0, \"ticks\": \"\"}, \"colorscale\": [[0.0, \"#0d0887\"], [0.1111111111111111, \"#46039f\"], [0.2222222222222222, \"#7201a8\"], [0.3333333333333333, \"#9c179e\"], [0.4444444444444444, \"#bd3786\"], [0.5555555555555556, \"#d8576b\"], [0.6666666666666666, \"#ed7953\"], [0.7777777777777778, \"#fb9f3a\"], [0.8888888888888888, \"#fdca26\"], [1.0, \"#f0f921\"]], \"type\": \"contour\"}], \"contourcarpet\": [{\"colorbar\": {\"outlinewidth\": 0, \"ticks\": \"\"}, \"type\": \"contourcarpet\"}], \"heatmap\": [{\"colorbar\": {\"outlinewidth\": 0, \"ticks\": \"\"}, \"colorscale\": [[0.0, \"#0d0887\"], [0.1111111111111111, \"#46039f\"], [0.2222222222222222, \"#7201a8\"], [0.3333333333333333, \"#9c179e\"], [0.4444444444444444, \"#bd3786\"], [0.5555555555555556, \"#d8576b\"], [0.6666666666666666, \"#ed7953\"], [0.7777777777777778, \"#fb9f3a\"], [0.8888888888888888, \"#fdca26\"], [1.0, \"#f0f921\"]], \"type\": \"heatmap\"}], \"heatmapgl\": [{\"colorbar\": {\"outlinewidth\": 0, \"ticks\": \"\"}, \"colorscale\": [[0.0, \"#0d0887\"], [0.1111111111111111, \"#46039f\"], [0.2222222222222222, \"#7201a8\"], [0.3333333333333333, \"#9c179e\"], [0.4444444444444444, \"#bd3786\"], [0.5555555555555556, \"#d8576b\"], [0.6666666666666666, \"#ed7953\"], [0.7777777777777778, \"#fb9f3a\"], [0.8888888888888888, \"#fdca26\"], [1.0, \"#f0f921\"]], \"type\": \"heatmapgl\"}], \"histogram\": [{\"marker\": {\"colorbar\": {\"outlinewidth\": 0, \"ticks\": \"\"}}, \"type\": \"histogram\"}], \"histogram2d\": [{\"colorbar\": {\"outlinewidth\": 0, \"ticks\": \"\"}, \"colorscale\": [[0.0, \"#0d0887\"], [0.1111111111111111, \"#46039f\"], [0.2222222222222222, \"#7201a8\"], [0.3333333333333333, \"#9c179e\"], [0.4444444444444444, \"#bd3786\"], [0.5555555555555556, \"#d8576b\"], [0.6666666666666666, \"#ed7953\"], [0.7777777777777778, \"#fb9f3a\"], [0.8888888888888888, \"#fdca26\"], [1.0, \"#f0f921\"]], \"type\": \"histogram2d\"}], \"histogram2dcontour\": [{\"colorbar\": {\"outlinewidth\": 0, \"ticks\": \"\"}, \"colorscale\": [[0.0, \"#0d0887\"], [0.1111111111111111, \"#46039f\"], [0.2222222222222222, \"#7201a8\"], [0.3333333333333333, \"#9c179e\"], [0.4444444444444444, \"#bd3786\"], [0.5555555555555556, \"#d8576b\"], [0.6666666666666666, \"#ed7953\"], [0.7777777777777778, \"#fb9f3a\"], [0.8888888888888888, \"#fdca26\"], [1.0, \"#f0f921\"]], \"type\": \"histogram2dcontour\"}], \"mesh3d\": [{\"colorbar\": {\"outlinewidth\": 0, \"ticks\": \"\"}, \"type\": \"mesh3d\"}], \"parcoords\": [{\"line\": {\"colorbar\": {\"outlinewidth\": 0, \"ticks\": \"\"}}, \"type\": \"parcoords\"}], \"pie\": [{\"automargin\": true, \"type\": \"pie\"}], \"scatter\": [{\"marker\": {\"colorbar\": {\"outlinewidth\": 0, \"ticks\": \"\"}}, \"type\": \"scatter\"}], \"scatter3d\": [{\"line\": {\"colorbar\": {\"outlinewidth\": 0, \"ticks\": \"\"}}, \"marker\": {\"colorbar\": {\"outlinewidth\": 0, \"ticks\": \"\"}}, \"type\": \"scatter3d\"}], \"scattercarpet\": [{\"marker\": {\"colorbar\": {\"outlinewidth\": 0, \"ticks\": \"\"}}, \"type\": \"scattercarpet\"}], \"scattergeo\": [{\"marker\": {\"colorbar\": {\"outlinewidth\": 0, \"ticks\": \"\"}}, \"type\": \"scattergeo\"}], \"scattergl\": [{\"marker\": {\"colorbar\": {\"outlinewidth\": 0, \"ticks\": \"\"}}, \"type\": \"scattergl\"}], \"scattermapbox\": [{\"marker\": {\"colorbar\": {\"outlinewidth\": 0, \"ticks\": \"\"}}, \"type\": \"scattermapbox\"}], \"scatterpolar\": [{\"marker\": {\"colorbar\": {\"outlinewidth\": 0, \"ticks\": \"\"}}, \"type\": \"scatterpolar\"}], \"scatterpolargl\": [{\"marker\": {\"colorbar\": {\"outlinewidth\": 0, \"ticks\": \"\"}}, \"type\": \"scatterpolargl\"}], \"scatterternary\": [{\"marker\": {\"colorbar\": {\"outlinewidth\": 0, \"ticks\": \"\"}}, \"type\": \"scatterternary\"}], \"surface\": [{\"colorbar\": {\"outlinewidth\": 0, \"ticks\": \"\"}, \"colorscale\": [[0.0, \"#0d0887\"], [0.1111111111111111, \"#46039f\"], [0.2222222222222222, \"#7201a8\"], [0.3333333333333333, \"#9c179e\"], [0.4444444444444444, \"#bd3786\"], [0.5555555555555556, \"#d8576b\"], [0.6666666666666666, \"#ed7953\"], [0.7777777777777778, \"#fb9f3a\"], [0.8888888888888888, \"#fdca26\"], [1.0, \"#f0f921\"]], \"type\": \"surface\"}], \"table\": [{\"cells\": {\"fill\": {\"color\": \"#EBF0F8\"}, \"line\": {\"color\": \"white\"}}, \"header\": {\"fill\": {\"color\": \"#C8D4E3\"}, \"line\": {\"color\": \"white\"}}, \"type\": \"table\"}]}, \"layout\": {\"annotationdefaults\": {\"arrowcolor\": \"#2a3f5f\", \"arrowhead\": 0, \"arrowwidth\": 1}, \"coloraxis\": {\"colorbar\": {\"outlinewidth\": 0, \"ticks\": \"\"}}, \"colorscale\": {\"diverging\": [[0, \"#8e0152\"], [0.1, \"#c51b7d\"], [0.2, \"#de77ae\"], [0.3, \"#f1b6da\"], [0.4, \"#fde0ef\"], [0.5, \"#f7f7f7\"], [0.6, \"#e6f5d0\"], [0.7, \"#b8e186\"], [0.8, \"#7fbc41\"], [0.9, \"#4d9221\"], [1, \"#276419\"]], \"sequential\": [[0.0, \"#0d0887\"], [0.1111111111111111, \"#46039f\"], [0.2222222222222222, \"#7201a8\"], [0.3333333333333333, \"#9c179e\"], [0.4444444444444444, \"#bd3786\"], [0.5555555555555556, \"#d8576b\"], [0.6666666666666666, \"#ed7953\"], [0.7777777777777778, \"#fb9f3a\"], [0.8888888888888888, \"#fdca26\"], [1.0, \"#f0f921\"]], \"sequentialminus\": [[0.0, \"#0d0887\"], [0.1111111111111111, \"#46039f\"], [0.2222222222222222, \"#7201a8\"], [0.3333333333333333, \"#9c179e\"], [0.4444444444444444, \"#bd3786\"], [0.5555555555555556, \"#d8576b\"], [0.6666666666666666, \"#ed7953\"], [0.7777777777777778, \"#fb9f3a\"], [0.8888888888888888, \"#fdca26\"], [1.0, \"#f0f921\"]]}, \"colorway\": [\"#636efa\", \"#EF553B\", \"#00cc96\", \"#ab63fa\", \"#FFA15A\", \"#19d3f3\", \"#FF6692\", \"#B6E880\", \"#FF97FF\", \"#FECB52\"], \"font\": {\"color\": \"#2a3f5f\"}, \"geo\": {\"bgcolor\": \"white\", \"lakecolor\": \"white\", \"landcolor\": \"#E5ECF6\", \"showlakes\": true, \"showland\": true, \"subunitcolor\": \"white\"}, \"hoverlabel\": {\"align\": \"left\"}, \"hovermode\": \"closest\", \"mapbox\": {\"style\": \"light\"}, \"paper_bgcolor\": \"white\", \"plot_bgcolor\": \"#E5ECF6\", \"polar\": {\"angularaxis\": {\"gridcolor\": \"white\", \"linecolor\": \"white\", \"ticks\": \"\"}, \"bgcolor\": \"#E5ECF6\", \"radialaxis\": {\"gridcolor\": \"white\", \"linecolor\": \"white\", \"ticks\": \"\"}}, \"scene\": {\"xaxis\": {\"backgroundcolor\": \"#E5ECF6\", \"gridcolor\": \"white\", \"gridwidth\": 2, \"linecolor\": \"white\", \"showbackground\": true, \"ticks\": \"\", \"zerolinecolor\": \"white\"}, \"yaxis\": {\"backgroundcolor\": \"#E5ECF6\", \"gridcolor\": \"white\", \"gridwidth\": 2, \"linecolor\": \"white\", \"showbackground\": true, \"ticks\": \"\", \"zerolinecolor\": \"white\"}, \"zaxis\": {\"backgroundcolor\": \"#E5ECF6\", \"gridcolor\": \"white\", \"gridwidth\": 2, \"linecolor\": \"white\", \"showbackground\": true, \"ticks\": \"\", \"zerolinecolor\": \"white\"}}, \"shapedefaults\": {\"line\": {\"color\": \"#2a3f5f\"}}, \"ternary\": {\"aaxis\": {\"gridcolor\": \"white\", \"linecolor\": \"white\", \"ticks\": \"\"}, \"baxis\": {\"gridcolor\": \"white\", \"linecolor\": \"white\", \"ticks\": \"\"}, \"bgcolor\": \"#E5ECF6\", \"caxis\": {\"gridcolor\": \"white\", \"linecolor\": \"white\", \"ticks\": \"\"}}, \"title\": {\"x\": 0.05}, \"xaxis\": {\"automargin\": true, \"gridcolor\": \"white\", \"linecolor\": \"white\", \"ticks\": \"\", \"title\": {\"standoff\": 15}, \"zerolinecolor\": \"white\", \"zerolinewidth\": 2}, \"yaxis\": {\"automargin\": true, \"gridcolor\": \"white\", \"linecolor\": \"white\", \"ticks\": \"\", \"title\": {\"standoff\": 15}, \"zerolinecolor\": \"white\", \"zerolinewidth\": 2}}}, \"title\": {\"font\": {\"color\": \"#4D5663\"}}, \"xaxis\": {\"gridcolor\": \"#E1E5ED\", \"showgrid\": true, \"tickfont\": {\"color\": \"#4D5663\"}, \"title\": {\"font\": {\"color\": \"#4D5663\"}, \"text\": \"\"}, \"zerolinecolor\": \"#E1E5ED\"}, \"yaxis\": {\"gridcolor\": \"#E1E5ED\", \"showgrid\": true, \"tickfont\": {\"color\": \"#4D5663\"}, \"title\": {\"font\": {\"color\": \"#4D5663\"}, \"text\": \"\"}, \"zerolinecolor\": \"#E1E5ED\"}},                        {\"showLink\": true, \"linkText\": \"Export to plot.ly\", \"plotlyServerURL\": \"https://plot.ly\", \"responsive\": true}                    ).then(function(){\n",
       "                            \n",
       "var gd = document.getElementById('d7c43f98-7325-4aa0-b493-74b26a1b2cc2');\n",
       "var x = new MutationObserver(function (mutations, observer) {{\n",
       "        var display = window.getComputedStyle(gd).display;\n",
       "        if (!display || display === 'none') {{\n",
       "            console.log([gd, 'removed!']);\n",
       "            Plotly.purge(gd);\n",
       "            observer.disconnect();\n",
       "        }}\n",
       "}});\n",
       "\n",
       "// Listen for the removal of the full notebook cells\n",
       "var notebookContainer = gd.closest('#notebook-container');\n",
       "if (notebookContainer) {{\n",
       "    x.observe(notebookContainer, {childList: true});\n",
       "}}\n",
       "\n",
       "// Listen for the clearing of the current output cell\n",
       "var outputEl = gd.closest('.output');\n",
       "if (outputEl) {{\n",
       "    x.observe(outputEl, {childList: true});\n",
       "}}\n",
       "\n",
       "                        })                };                });            </script>        </div>"
      ]
     },
     "metadata": {},
     "output_type": "display_data"
    }
   ],
   "source": [
    "df['income'].iplot(kind='hist')"
   ]
  },
  {
   "cell_type": "code",
   "execution_count": 22,
   "metadata": {},
   "outputs": [
    {
     "data": {
      "text/plain": [
       "<matplotlib.axes._subplots.AxesSubplot at 0x20066aabac8>"
      ]
     },
     "execution_count": 22,
     "metadata": {},
     "output_type": "execute_result"
    },
    {
     "data": {
      "image/png": "[encoded data removed]",
      "text/plain": [
       "<Figure size 432x288 with 1 Axes>"
      ]
     },
     "metadata": {},
     "output_type": "display_data"
    }
   ],
   "source": [
    "sns.countplot(df['card'])"
   ]
  },
  {
   "cell_type": "code",
   "execution_count": 23,
   "metadata": {},
   "outputs": [
    {
     "data": {
      "text/html": [
       "<div>\n",
       "<style scoped>\n",
       "    .dataframe tbody tr th:only-of-type {\n",
       "        vertical-align: middle;\n",
       "    }\n",
       "\n",
       "    .dataframe tbody tr th {\n",
       "        vertical-align: top;\n",
       "    }\n",
       "\n",
       "    .dataframe thead th {\n",
       "        text-align: right;\n",
       "    }\n",
       "</style>\n",
       "<table border=\"1\" class=\"dataframe\">\n",
       "  <thead>\n",
       "    <tr style=\"text-align: right;\">\n",
       "      <th></th>\n",
       "      <th>reports</th>\n",
       "      <th>age</th>\n",
       "      <th>income</th>\n",
       "      <th>share</th>\n",
       "      <th>expenditure</th>\n",
       "      <th>dependents</th>\n",
       "      <th>months</th>\n",
       "      <th>majorcards</th>\n",
       "      <th>active</th>\n",
       "    </tr>\n",
       "  </thead>\n",
       "  <tbody>\n",
       "    <tr>\n",
       "      <th>count</th>\n",
       "      <td>1319.000000</td>\n",
       "      <td>1319.000000</td>\n",
       "      <td>1319.000000</td>\n",
       "      <td>1319.000000</td>\n",
       "      <td>1319.000000</td>\n",
       "      <td>1319.000000</td>\n",
       "      <td>1319.000000</td>\n",
       "      <td>1319.000000</td>\n",
       "      <td>1319.000000</td>\n",
       "    </tr>\n",
       "    <tr>\n",
       "      <th>mean</th>\n",
       "      <td>0.456406</td>\n",
       "      <td>33.213103</td>\n",
       "      <td>3.365376</td>\n",
       "      <td>0.068732</td>\n",
       "      <td>185.057071</td>\n",
       "      <td>0.993935</td>\n",
       "      <td>55.267627</td>\n",
       "      <td>0.817286</td>\n",
       "      <td>6.996967</td>\n",
       "    </tr>\n",
       "    <tr>\n",
       "      <th>std</th>\n",
       "      <td>1.345267</td>\n",
       "      <td>10.142783</td>\n",
       "      <td>1.693902</td>\n",
       "      <td>0.094656</td>\n",
       "      <td>272.218917</td>\n",
       "      <td>1.247745</td>\n",
       "      <td>66.271746</td>\n",
       "      <td>0.386579</td>\n",
       "      <td>6.305812</td>\n",
       "    </tr>\n",
       "    <tr>\n",
       "      <th>min</th>\n",
       "      <td>0.000000</td>\n",
       "      <td>0.166667</td>\n",
       "      <td>0.210000</td>\n",
       "      <td>0.000109</td>\n",
       "      <td>0.000000</td>\n",
       "      <td>0.000000</td>\n",
       "      <td>0.000000</td>\n",
       "      <td>0.000000</td>\n",
       "      <td>0.000000</td>\n",
       "    </tr>\n",
       "    <tr>\n",
       "      <th>25%</th>\n",
       "      <td>0.000000</td>\n",
       "      <td>25.416670</td>\n",
       "      <td>2.243750</td>\n",
       "      <td>0.002316</td>\n",
       "      <td>4.583333</td>\n",
       "      <td>0.000000</td>\n",
       "      <td>12.000000</td>\n",
       "      <td>1.000000</td>\n",
       "      <td>2.000000</td>\n",
       "    </tr>\n",
       "    <tr>\n",
       "      <th>50%</th>\n",
       "      <td>0.000000</td>\n",
       "      <td>31.250000</td>\n",
       "      <td>2.900000</td>\n",
       "      <td>0.038827</td>\n",
       "      <td>101.298300</td>\n",
       "      <td>1.000000</td>\n",
       "      <td>30.000000</td>\n",
       "      <td>1.000000</td>\n",
       "      <td>6.000000</td>\n",
       "    </tr>\n",
       "    <tr>\n",
       "      <th>75%</th>\n",
       "      <td>0.000000</td>\n",
       "      <td>39.416670</td>\n",
       "      <td>4.000000</td>\n",
       "      <td>0.093617</td>\n",
       "      <td>249.035800</td>\n",
       "      <td>2.000000</td>\n",
       "      <td>72.000000</td>\n",
       "      <td>1.000000</td>\n",
       "      <td>11.000000</td>\n",
       "    </tr>\n",
       "    <tr>\n",
       "      <th>max</th>\n",
       "      <td>14.000000</td>\n",
       "      <td>83.500000</td>\n",
       "      <td>13.500000</td>\n",
       "      <td>0.906320</td>\n",
       "      <td>3099.505000</td>\n",
       "      <td>6.000000</td>\n",
       "      <td>540.000000</td>\n",
       "      <td>1.000000</td>\n",
       "      <td>46.000000</td>\n",
       "    </tr>\n",
       "  </tbody>\n",
       "</table>\n",
       "</div>"
      ],
      "text/plain": [
       "           reports          age       income        share  expenditure  \\\n",
       "count  1319.000000  1319.000000  1319.000000  1319.000000  1319.000000   \n",
       "mean      0.456406    33.213103     3.365376     0.068732   185.057071   \n",
       "std       1.345267    10.142783     1.693902     0.094656   272.218917   \n",
       "min       0.000000     0.166667     0.210000     0.000109     0.000000   \n",
       "25%       0.000000    25.416670     2.243750     0.002316     4.583333   \n",
       "50%       0.000000    31.250000     2.900000     0.038827   101.298300   \n",
       "75%       0.000000    39.416670     4.000000     0.093617   249.035800   \n",
       "max      14.000000    83.500000    13.500000     0.906320  3099.505000   \n",
       "\n",
       "        dependents       months   majorcards       active  \n",
       "count  1319.000000  1319.000000  1319.000000  1319.000000  \n",
       "mean      0.993935    55.267627     0.817286     6.996967  \n",
       "std       1.247745    66.271746     0.386579     6.305812  \n",
       "min       0.000000     0.000000     0.000000     0.000000  \n",
       "25%       0.000000    12.000000     1.000000     2.000000  \n",
       "50%       1.000000    30.000000     1.000000     6.000000  \n",
       "75%       2.000000    72.000000     1.000000    11.000000  \n",
       "max       6.000000   540.000000     1.000000    46.000000  "
      ]
     },
     "execution_count": 23,
     "metadata": {},
     "output_type": "execute_result"
    }
   ],
   "source": [
    "df.describe()"
   ]
  },
  {
   "cell_type": "code",
   "execution_count": 24,
   "metadata": {},
   "outputs": [
    {
     "data": {
      "text/html": [
       "<div>\n",
       "<style scoped>\n",
       "    .dataframe tbody tr th:only-of-type {\n",
       "        vertical-align: middle;\n",
       "    }\n",
       "\n",
       "    .dataframe tbody tr th {\n",
       "        vertical-align: top;\n",
       "    }\n",
       "\n",
       "    .dataframe thead th {\n",
       "        text-align: right;\n",
       "    }\n",
       "</style>\n",
       "<table border=\"1\" class=\"dataframe\">\n",
       "  <thead>\n",
       "    <tr style=\"text-align: right;\">\n",
       "      <th></th>\n",
       "      <th>card</th>\n",
       "      <th>reports</th>\n",
       "      <th>age</th>\n",
       "      <th>income</th>\n",
       "      <th>share</th>\n",
       "      <th>expenditure</th>\n",
       "      <th>owner</th>\n",
       "      <th>selfemp</th>\n",
       "      <th>dependents</th>\n",
       "      <th>months</th>\n",
       "      <th>majorcards</th>\n",
       "      <th>active</th>\n",
       "    </tr>\n",
       "  </thead>\n",
       "  <tbody>\n",
       "    <tr>\n",
       "      <th>0</th>\n",
       "      <td>yes</td>\n",
       "      <td>0</td>\n",
       "      <td>37.66667</td>\n",
       "      <td>4.5200</td>\n",
       "      <td>0.033270</td>\n",
       "      <td>124.983300</td>\n",
       "      <td>yes</td>\n",
       "      <td>no</td>\n",
       "      <td>3</td>\n",
       "      <td>54</td>\n",
       "      <td>1</td>\n",
       "      <td>12</td>\n",
       "    </tr>\n",
       "    <tr>\n",
       "      <th>1</th>\n",
       "      <td>yes</td>\n",
       "      <td>0</td>\n",
       "      <td>33.25000</td>\n",
       "      <td>2.4200</td>\n",
       "      <td>0.005217</td>\n",
       "      <td>9.854167</td>\n",
       "      <td>no</td>\n",
       "      <td>no</td>\n",
       "      <td>3</td>\n",
       "      <td>34</td>\n",
       "      <td>1</td>\n",
       "      <td>13</td>\n",
       "    </tr>\n",
       "    <tr>\n",
       "      <th>2</th>\n",
       "      <td>yes</td>\n",
       "      <td>0</td>\n",
       "      <td>33.66667</td>\n",
       "      <td>4.5000</td>\n",
       "      <td>0.004156</td>\n",
       "      <td>15.000000</td>\n",
       "      <td>yes</td>\n",
       "      <td>no</td>\n",
       "      <td>4</td>\n",
       "      <td>58</td>\n",
       "      <td>1</td>\n",
       "      <td>5</td>\n",
       "    </tr>\n",
       "    <tr>\n",
       "      <th>3</th>\n",
       "      <td>yes</td>\n",
       "      <td>0</td>\n",
       "      <td>30.50000</td>\n",
       "      <td>2.5400</td>\n",
       "      <td>0.065214</td>\n",
       "      <td>137.869200</td>\n",
       "      <td>no</td>\n",
       "      <td>no</td>\n",
       "      <td>0</td>\n",
       "      <td>25</td>\n",
       "      <td>1</td>\n",
       "      <td>7</td>\n",
       "    </tr>\n",
       "    <tr>\n",
       "      <th>4</th>\n",
       "      <td>yes</td>\n",
       "      <td>0</td>\n",
       "      <td>32.16667</td>\n",
       "      <td>9.7867</td>\n",
       "      <td>0.067051</td>\n",
       "      <td>546.503300</td>\n",
       "      <td>yes</td>\n",
       "      <td>no</td>\n",
       "      <td>2</td>\n",
       "      <td>64</td>\n",
       "      <td>1</td>\n",
       "      <td>5</td>\n",
       "    </tr>\n",
       "  </tbody>\n",
       "</table>\n",
       "</div>"
      ],
      "text/plain": [
       "  card  reports       age  income     share  expenditure owner selfemp  \\\n",
       "0  yes        0  37.66667  4.5200  0.033270   124.983300   yes      no   \n",
       "1  yes        0  33.25000  2.4200  0.005217     9.854167    no      no   \n",
       "2  yes        0  33.66667  4.5000  0.004156    15.000000   yes      no   \n",
       "3  yes        0  30.50000  2.5400  0.065214   137.869200    no      no   \n",
       "4  yes        0  32.16667  9.7867  0.067051   546.503300   yes      no   \n",
       "\n",
       "   dependents  months  majorcards  active  \n",
       "0           3      54           1      12  \n",
       "1           3      34           1      13  \n",
       "2           4      58           1       5  \n",
       "3           0      25           1       7  \n",
       "4           2      64           1       5  "
      ]
     },
     "execution_count": 24,
     "metadata": {},
     "output_type": "execute_result"
    }
   ],
   "source": [
    "df.head()"
   ]
  },
  {
   "cell_type": "code",
   "execution_count": 25,
   "metadata": {},
   "outputs": [],
   "source": [
    "from sklearn.metrics import confusion_matrix,classification_report,accuracy_score,roc_auc_score,roc_curve,recall_score"
   ]
  },
  {
   "cell_type": "code",
   "execution_count": 26,
   "metadata": {},
   "outputs": [],
   "source": [
    "# We will perform the data processing as we need to fit the data to logistic model.\n",
    "\n",
    "from sklearn.preprocessing import LabelEncoder"
   ]
  },
  {
   "cell_type": "code",
   "execution_count": 27,
   "metadata": {},
   "outputs": [],
   "source": [
    "Lbe = LabelEncoder()"
   ]
  },
  {
   "cell_type": "code",
   "execution_count": 28,
   "metadata": {},
   "outputs": [],
   "source": [
    "Column = df.columns"
   ]
  },
  {
   "cell_type": "code",
   "execution_count": 29,
   "metadata": {},
   "outputs": [],
   "source": [
    "for Column in df.columns:\n",
    "    if df[Column].dtype=='object':\n",
    "        df[Column] = Lbe.fit_transform(df[Column])\n",
    "    else:\n",
    "        pass"
   ]
  },
  {
   "cell_type": "code",
   "execution_count": 30,
   "metadata": {},
   "outputs": [
    {
     "data": {
      "text/html": [
       "<div>\n",
       "<style scoped>\n",
       "    .dataframe tbody tr th:only-of-type {\n",
       "        vertical-align: middle;\n",
       "    }\n",
       "\n",
       "    .dataframe tbody tr th {\n",
       "        vertical-align: top;\n",
       "    }\n",
       "\n",
       "    .dataframe thead th {\n",
       "        text-align: right;\n",
       "    }\n",
       "</style>\n",
       "<table border=\"1\" class=\"dataframe\">\n",
       "  <thead>\n",
       "    <tr style=\"text-align: right;\">\n",
       "      <th></th>\n",
       "      <th>card</th>\n",
       "      <th>reports</th>\n",
       "      <th>age</th>\n",
       "      <th>income</th>\n",
       "      <th>share</th>\n",
       "      <th>expenditure</th>\n",
       "      <th>owner</th>\n",
       "      <th>selfemp</th>\n",
       "      <th>dependents</th>\n",
       "      <th>months</th>\n",
       "      <th>majorcards</th>\n",
       "      <th>active</th>\n",
       "    </tr>\n",
       "  </thead>\n",
       "  <tbody>\n",
       "    <tr>\n",
       "      <th>0</th>\n",
       "      <td>1</td>\n",
       "      <td>0</td>\n",
       "      <td>37.66667</td>\n",
       "      <td>4.5200</td>\n",
       "      <td>0.033270</td>\n",
       "      <td>124.983300</td>\n",
       "      <td>1</td>\n",
       "      <td>0</td>\n",
       "      <td>3</td>\n",
       "      <td>54</td>\n",
       "      <td>1</td>\n",
       "      <td>12</td>\n",
       "    </tr>\n",
       "    <tr>\n",
       "      <th>1</th>\n",
       "      <td>1</td>\n",
       "      <td>0</td>\n",
       "      <td>33.25000</td>\n",
       "      <td>2.4200</td>\n",
       "      <td>0.005217</td>\n",
       "      <td>9.854167</td>\n",
       "      <td>0</td>\n",
       "      <td>0</td>\n",
       "      <td>3</td>\n",
       "      <td>34</td>\n",
       "      <td>1</td>\n",
       "      <td>13</td>\n",
       "    </tr>\n",
       "    <tr>\n",
       "      <th>2</th>\n",
       "      <td>1</td>\n",
       "      <td>0</td>\n",
       "      <td>33.66667</td>\n",
       "      <td>4.5000</td>\n",
       "      <td>0.004156</td>\n",
       "      <td>15.000000</td>\n",
       "      <td>1</td>\n",
       "      <td>0</td>\n",
       "      <td>4</td>\n",
       "      <td>58</td>\n",
       "      <td>1</td>\n",
       "      <td>5</td>\n",
       "    </tr>\n",
       "    <tr>\n",
       "      <th>3</th>\n",
       "      <td>1</td>\n",
       "      <td>0</td>\n",
       "      <td>30.50000</td>\n",
       "      <td>2.5400</td>\n",
       "      <td>0.065214</td>\n",
       "      <td>137.869200</td>\n",
       "      <td>0</td>\n",
       "      <td>0</td>\n",
       "      <td>0</td>\n",
       "      <td>25</td>\n",
       "      <td>1</td>\n",
       "      <td>7</td>\n",
       "    </tr>\n",
       "    <tr>\n",
       "      <th>4</th>\n",
       "      <td>1</td>\n",
       "      <td>0</td>\n",
       "      <td>32.16667</td>\n",
       "      <td>9.7867</td>\n",
       "      <td>0.067051</td>\n",
       "      <td>546.503300</td>\n",
       "      <td>1</td>\n",
       "      <td>0</td>\n",
       "      <td>2</td>\n",
       "      <td>64</td>\n",
       "      <td>1</td>\n",
       "      <td>5</td>\n",
       "    </tr>\n",
       "  </tbody>\n",
       "</table>\n",
       "</div>"
      ],
      "text/plain": [
       "   card  reports       age  income     share  expenditure  owner  selfemp  \\\n",
       "0     1        0  37.66667  4.5200  0.033270   124.983300      1        0   \n",
       "1     1        0  33.25000  2.4200  0.005217     9.854167      0        0   \n",
       "2     1        0  33.66667  4.5000  0.004156    15.000000      1        0   \n",
       "3     1        0  30.50000  2.5400  0.065214   137.869200      0        0   \n",
       "4     1        0  32.16667  9.7867  0.067051   546.503300      1        0   \n",
       "\n",
       "   dependents  months  majorcards  active  \n",
       "0           3      54           1      12  \n",
       "1           3      34           1      13  \n",
       "2           4      58           1       5  \n",
       "3           0      25           1       7  \n",
       "4           2      64           1       5  "
      ]
     },
     "execution_count": 30,
     "metadata": {},
     "output_type": "execute_result"
    }
   ],
   "source": [
    "df.head()"
   ]
  },
  {
   "cell_type": "code",
   "execution_count": 31,
   "metadata": {},
   "outputs": [
    {
     "name": "stdout",
     "output_type": "stream",
     "text": [
      "        age  income     share  expenditure  owner  selfemp  dependents  \\\n",
      "0  37.66667  4.5200  0.033270   124.983300      1        0           3   \n",
      "1  33.25000  2.4200  0.005217     9.854167      0        0           3   \n",
      "2  33.66667  4.5000  0.004156    15.000000      1        0           4   \n",
      "3  30.50000  2.5400  0.065214   137.869200      0        0           0   \n",
      "4  32.16667  9.7867  0.067051   546.503300      1        0           2   \n",
      "\n",
      "   months  majorcards  active  \n",
      "0      54           1      12  \n",
      "1      34           1      13  \n",
      "2      58           1       5  \n",
      "3      25           1       7  \n",
      "4      64           1       5  \n",
      "0    1\n",
      "1    1\n",
      "2    1\n",
      "3    1\n",
      "4    1\n",
      "Name: card, dtype: int32\n"
     ]
    }
   ],
   "source": [
    "# Split data into X and Y variable\n",
    "\n",
    "X = df.iloc[:,2:]\n",
    "print(X.head())\n",
    "\n",
    "Y = df.iloc[:,0]\n",
    "print(Y.head())"
   ]
  },
  {
   "cell_type": "code",
   "execution_count": 38,
   "metadata": {},
   "outputs": [],
   "source": [
    "# splitting data into Train and Test data\n",
    "\n",
    "from sklearn.model_selection import train_test_split"
   ]
  },
  {
   "cell_type": "code",
   "execution_count": 40,
   "metadata": {},
   "outputs": [],
   "source": [
    "X_train,X_test,y_train,y_test= train_test_split(X,Y,test_size=0.25, random_state=42)"
   ]
  },
  {
   "cell_type": "code",
   "execution_count": 42,
   "metadata": {},
   "outputs": [],
   "source": [
    "# We will now import logistic regression and fit data\n",
    "\n",
    "from sklearn.linear_model import LogisticRegression"
   ]
  },
  {
   "cell_type": "code",
   "execution_count": 43,
   "metadata": {},
   "outputs": [],
   "source": [
    "LRC = LogisticRegression(solver='liblinear',random_state=0)"
   ]
  },
  {
   "cell_type": "code",
   "execution_count": 44,
   "metadata": {},
   "outputs": [
    {
     "data": {
      "text/plain": [
       "LogisticRegression(C=1.0, class_weight=None, dual=False, fit_intercept=True,\n",
       "                   intercept_scaling=1, l1_ratio=None, max_iter=100,\n",
       "                   multi_class='auto', n_jobs=None, penalty='l2',\n",
       "                   random_state=0, solver='liblinear', tol=0.0001, verbose=0,\n",
       "                   warm_start=False)"
      ]
     },
     "execution_count": 44,
     "metadata": {},
     "output_type": "execute_result"
    }
   ],
   "source": [
    "LRC.fit(X_train,y_train)"
   ]
  },
  {
   "cell_type": "code",
   "execution_count": 45,
   "metadata": {},
   "outputs": [
    {
     "data": {
      "text/plain": [
       "array([0, 1])"
      ]
     },
     "execution_count": 45,
     "metadata": {},
     "output_type": "execute_result"
    }
   ],
   "source": [
    "LRC.classes_"
   ]
  },
  {
   "cell_type": "code",
   "execution_count": 46,
   "metadata": {},
   "outputs": [
    {
     "data": {
      "text/plain": [
       "array([-1.57083522])"
      ]
     },
     "execution_count": 46,
     "metadata": {},
     "output_type": "execute_result"
    }
   ],
   "source": [
    "LRC.intercept_"
   ]
  },
  {
   "cell_type": "code",
   "execution_count": 48,
   "metadata": {},
   "outputs": [
    {
     "data": {
      "text/plain": [
       "array([[ 1.24732684e-02, -1.83812616e-01, -9.65276264e-04,\n",
       "         1.70729854e+00,  6.81959590e-01,  1.14114854e-01,\n",
       "        -7.42755738e-01, -9.32796164e-03, -1.99230638e-01,\n",
       "         2.72438196e-03]])"
      ]
     },
     "execution_count": 48,
     "metadata": {},
     "output_type": "execute_result"
    }
   ],
   "source": [
    "LRC.coef_"
   ]
  },
  {
   "cell_type": "code",
   "execution_count": 49,
   "metadata": {},
   "outputs": [
    {
     "name": "stderr",
     "output_type": "stream",
     "text": [
      "C:\\Users\\Dell\\anaconda3\\lib\\site-packages\\sklearn\\linear_model\\_logistic.py:1681: RuntimeWarning:\n",
      "\n",
      "divide by zero encountered in log\n",
      "\n"
     ]
    },
    {
     "data": {
      "text/plain": [
       "array([ 0.00000000e+00,  0.00000000e+00,  0.00000000e+00,  0.00000000e+00,\n",
       "       -2.44249065e-15,  0.00000000e+00,  0.00000000e+00,  0.00000000e+00,\n",
       "        0.00000000e+00, -2.94440195e+00, -1.28123512e-10, -2.69068932e+00,\n",
       "       -4.19070833e+00,  0.00000000e+00,  0.00000000e+00,  0.00000000e+00,\n",
       "       -4.27187858e+00,  0.00000000e+00,  0.00000000e+00, -1.07378054e-07,\n",
       "        0.00000000e+00,  0.00000000e+00, -2.35226093e+00,  0.00000000e+00,\n",
       "        0.00000000e+00,  0.00000000e+00,  0.00000000e+00, -3.20207806e+00,\n",
       "        0.00000000e+00, -1.58695081e-05,  0.00000000e+00,  0.00000000e+00,\n",
       "        0.00000000e+00,  0.00000000e+00,  0.00000000e+00, -1.08566221e-07,\n",
       "       -4.02904904e+00,  0.00000000e+00, -1.74763017e+00,  0.00000000e+00,\n",
       "        0.00000000e+00,  0.00000000e+00, -2.00373137e+00, -2.27991502e+00,\n",
       "       -5.13221558e-07, -2.09027652e+00,  0.00000000e+00,  0.00000000e+00,\n",
       "        0.00000000e+00, -4.14414806e+00,  0.00000000e+00, -3.81988254e+00,\n",
       "        0.00000000e+00,  0.00000000e+00, -1.06218036e+00,  0.00000000e+00,\n",
       "        0.00000000e+00, -2.05736316e+00,  0.00000000e+00,  0.00000000e+00,\n",
       "       -3.50720229e+00, -2.48254799e+00, -2.22044605e-16,  0.00000000e+00,\n",
       "       -2.96269590e+00,  0.00000000e+00, -2.02094617e+00, -3.87460922e+00,\n",
       "        0.00000000e+00, -2.08732435e+00,  0.00000000e+00,  0.00000000e+00,\n",
       "        0.00000000e+00,  0.00000000e+00,  0.00000000e+00, -3.14669649e+00,\n",
       "       -1.91684914e+00,  0.00000000e+00,  0.00000000e+00,  0.00000000e+00,\n",
       "       -3.18035318e+00, -2.83560351e+00, -1.37484324e+00,  0.00000000e+00,\n",
       "        0.00000000e+00,  0.00000000e+00,  0.00000000e+00,  0.00000000e+00,\n",
       "        0.00000000e+00,  0.00000000e+00,  0.00000000e+00,  0.00000000e+00,\n",
       "        0.00000000e+00,  0.00000000e+00, -6.50011790e+00,  0.00000000e+00,\n",
       "        0.00000000e+00, -3.01901472e+00,  0.00000000e+00,  0.00000000e+00,\n",
       "        0.00000000e+00, -2.22044605e-16,  0.00000000e+00,  0.00000000e+00,\n",
       "       -2.40816162e+00, -2.11919309e+00, -2.22044605e-15, -4.04972779e+00,\n",
       "        0.00000000e+00, -2.72957657e-10,  0.00000000e+00, -2.54066927e+00,\n",
       "        0.00000000e+00,  0.00000000e+00, -3.67504153e+00,  0.00000000e+00,\n",
       "       -2.17702376e+00, -1.78105029e+00, -2.06594674e+00,  0.00000000e+00,\n",
       "        0.00000000e+00,  0.00000000e+00,  0.00000000e+00,  0.00000000e+00,\n",
       "       -2.19513560e+00, -1.56300243e+00, -3.24727842e+00,  0.00000000e+00,\n",
       "        0.00000000e+00, -2.85023321e+00,  0.00000000e+00, -1.85215195e+00,\n",
       "        0.00000000e+00,  0.00000000e+00,  0.00000000e+00, -2.92888264e+00,\n",
       "        0.00000000e+00,  0.00000000e+00, -2.35024254e+00, -3.68050537e+00,\n",
       "        0.00000000e+00,  0.00000000e+00,  0.00000000e+00,  0.00000000e+00,\n",
       "        0.00000000e+00,  0.00000000e+00,  0.00000000e+00,  0.00000000e+00,\n",
       "        0.00000000e+00, -5.19351147e+00, -3.06976388e-06,  0.00000000e+00,\n",
       "       -1.95153367e+00, -2.76471727e+00,  0.00000000e+00,  0.00000000e+00,\n",
       "        0.00000000e+00,  0.00000000e+00,  0.00000000e+00,  0.00000000e+00,\n",
       "       -3.36796998e+00,  0.00000000e+00,  0.00000000e+00, -5.64104251e+00,\n",
       "        0.00000000e+00, -1.98672879e+00,  0.00000000e+00, -3.56635078e+00,\n",
       "        0.00000000e+00,  0.00000000e+00,  0.00000000e+00,  0.00000000e+00,\n",
       "        0.00000000e+00, -1.35313982e-12,  0.00000000e+00,  0.00000000e+00,\n",
       "        0.00000000e+00,  0.00000000e+00,  0.00000000e+00,  0.00000000e+00,\n",
       "        0.00000000e+00,  0.00000000e+00,  0.00000000e+00, -3.44605842e-04,\n",
       "        0.00000000e+00,  0.00000000e+00,  0.00000000e+00,  0.00000000e+00,\n",
       "        0.00000000e+00,  0.00000000e+00, -3.77845533e-10, -2.34342629e+00,\n",
       "        0.00000000e+00,  0.00000000e+00,  0.00000000e+00,  0.00000000e+00,\n",
       "       -2.12754096e+00,  0.00000000e+00, -2.18693090e+00,  0.00000000e+00,\n",
       "        0.00000000e+00,  0.00000000e+00,  0.00000000e+00,  0.00000000e+00,\n",
       "        0.00000000e+00,  0.00000000e+00,  0.00000000e+00,  0.00000000e+00,\n",
       "        0.00000000e+00,  0.00000000e+00,  0.00000000e+00,  0.00000000e+00,\n",
       "       -2.13494051e+00, -1.95027195e+00, -1.24985064e-03,  0.00000000e+00,\n",
       "       -3.11597451e+00, -2.09130890e+00,  0.00000000e+00,  0.00000000e+00,\n",
       "        0.00000000e+00, -3.70694829e+00,  0.00000000e+00, -2.99524877e+00,\n",
       "        0.00000000e+00, -4.87699005e+00,  0.00000000e+00,  0.00000000e+00,\n",
       "       -3.83524785e+00,  0.00000000e+00,  0.00000000e+00,  0.00000000e+00,\n",
       "        0.00000000e+00, -1.49951152e-06,  0.00000000e+00,  0.00000000e+00,\n",
       "        0.00000000e+00,  0.00000000e+00, -3.29247930e+00,  0.00000000e+00,\n",
       "        0.00000000e+00, -2.68624640e+00,  0.00000000e+00,  0.00000000e+00,\n",
       "        0.00000000e+00,  0.00000000e+00,  0.00000000e+00, -2.69735606e-03,\n",
       "        0.00000000e+00,  0.00000000e+00,  0.00000000e+00,  0.00000000e+00,\n",
       "        0.00000000e+00,  0.00000000e+00, -2.99067877e+00, -2.22908016e+00,\n",
       "        0.00000000e+00,  0.00000000e+00,  0.00000000e+00, -1.61226004e-04,\n",
       "        0.00000000e+00,  0.00000000e+00, -2.52073139e+00, -2.58169721e+00,\n",
       "        0.00000000e+00,  0.00000000e+00,  0.00000000e+00, -4.07702253e+00,\n",
       "        0.00000000e+00, -3.16512703e+00,  0.00000000e+00,  0.00000000e+00,\n",
       "        0.00000000e+00,  0.00000000e+00,  0.00000000e+00,  0.00000000e+00,\n",
       "        0.00000000e+00,  0.00000000e+00,  0.00000000e+00,  0.00000000e+00,\n",
       "       -2.16461744e+00,  0.00000000e+00,  0.00000000e+00,  0.00000000e+00,\n",
       "       -3.46372722e+00,  0.00000000e+00, -4.30304835e+00,  0.00000000e+00,\n",
       "       -3.22760417e+00,  0.00000000e+00, -2.70195440e+00,  0.00000000e+00,\n",
       "        0.00000000e+00,  0.00000000e+00,  0.00000000e+00, -2.72327044e+00,\n",
       "        0.00000000e+00,  0.00000000e+00, -1.00881912e-06, -1.40066985e-02,\n",
       "        0.00000000e+00,  0.00000000e+00, -4.83939515e+00,  0.00000000e+00,\n",
       "        0.00000000e+00,  0.00000000e+00,  0.00000000e+00,  0.00000000e+00,\n",
       "        0.00000000e+00, -2.01275231e+00, -1.94916080e+00, -3.01791489e-03,\n",
       "       -3.13261365e+00,  0.00000000e+00, -4.71509959e+00,  0.00000000e+00,\n",
       "        0.00000000e+00,  0.00000000e+00,  0.00000000e+00,  0.00000000e+00,\n",
       "       -7.56124607e-07,  0.00000000e+00, -2.03527473e+00,  0.00000000e+00,\n",
       "        0.00000000e+00, -4.42489451e+00,  0.00000000e+00,  0.00000000e+00,\n",
       "        0.00000000e+00,  0.00000000e+00])"
      ]
     },
     "execution_count": 49,
     "metadata": {},
     "output_type": "execute_result"
    }
   ],
   "source": [
    "y_pred_prob = LRC.predict_log_proba(X_test)[:,1]\n",
    "y_pred_prob"
   ]
  },
  {
   "cell_type": "code",
   "execution_count": 50,
   "metadata": {},
   "outputs": [
    {
     "data": {
      "text/plain": [
       "array([1, 1, 1, 1, 1, 1, 1, 1, 1, 0, 1, 0, 0, 1, 1, 1, 0, 1, 1, 1, 1, 1,\n",
       "       0, 1, 1, 1, 1, 0, 1, 1, 1, 1, 1, 1, 1, 1, 0, 1, 0, 1, 1, 1, 0, 0,\n",
       "       1, 0, 1, 1, 1, 0, 1, 0, 1, 1, 0, 1, 1, 0, 1, 1, 0, 0, 1, 1, 0, 1,\n",
       "       0, 0, 1, 0, 1, 1, 1, 1, 1, 0, 0, 1, 1, 1, 0, 0, 0, 1, 1, 1, 1, 1,\n",
       "       1, 1, 1, 1, 1, 1, 0, 1, 1, 0, 1, 1, 1, 1, 1, 1, 0, 0, 1, 0, 1, 1,\n",
       "       1, 0, 1, 1, 0, 1, 0, 0, 0, 1, 1, 1, 1, 1, 0, 0, 0, 1, 1, 0, 1, 0,\n",
       "       1, 1, 1, 0, 1, 1, 0, 0, 1, 1, 1, 1, 1, 1, 1, 1, 1, 0, 1, 1, 0, 0,\n",
       "       1, 1, 1, 1, 1, 1, 0, 1, 1, 0, 1, 0, 1, 0, 1, 1, 1, 1, 1, 1, 1, 1,\n",
       "       1, 1, 1, 1, 1, 1, 1, 1, 1, 1, 1, 1, 1, 1, 1, 0, 1, 1, 1, 1, 0, 1,\n",
       "       0, 1, 1, 1, 1, 1, 1, 1, 1, 1, 1, 1, 1, 1, 0, 0, 1, 1, 0, 0, 1, 1,\n",
       "       1, 0, 1, 0, 1, 0, 1, 1, 0, 1, 1, 1, 1, 1, 1, 1, 1, 1, 0, 1, 1, 0,\n",
       "       1, 1, 1, 1, 1, 1, 1, 1, 1, 1, 1, 1, 0, 0, 1, 1, 1, 1, 1, 1, 0, 0,\n",
       "       1, 1, 1, 0, 1, 0, 1, 1, 1, 1, 1, 1, 1, 1, 1, 1, 0, 1, 1, 1, 0, 1,\n",
       "       0, 1, 0, 1, 0, 1, 1, 1, 1, 0, 1, 1, 1, 1, 1, 1, 0, 1, 1, 1, 1, 1,\n",
       "       1, 0, 0, 1, 0, 1, 0, 1, 1, 1, 1, 1, 1, 1, 0, 1, 1, 0, 1, 1, 1, 1])"
      ]
     },
     "execution_count": 50,
     "metadata": {},
     "output_type": "execute_result"
    }
   ],
   "source": [
    "y_pred = LRC.predict(X_test)\n",
    "y_pred"
   ]
  },
  {
   "cell_type": "code",
   "execution_count": 51,
   "metadata": {},
   "outputs": [],
   "source": [
    "from sklearn import metrics"
   ]
  },
  {
   "cell_type": "code",
   "execution_count": 52,
   "metadata": {},
   "outputs": [
    {
     "data": {
      "text/plain": [
       "(array([0.        , 0.        , 0.        , 0.        , 0.03947368,\n",
       "        0.03947368, 0.15789474, 0.15789474, 0.28947368, 0.28947368,\n",
       "        0.34210526, 0.34210526, 0.47368421, 0.47368421, 0.75      ,\n",
       "        0.75      , 0.77631579, 0.77631579, 1.        ]),\n",
       " array([0.        , 0.88582677, 0.89370079, 0.97244094, 0.97244094,\n",
       "        0.97637795, 0.97637795, 0.98031496, 0.98031496, 0.98425197,\n",
       "        0.98425197, 0.98818898, 0.98818898, 0.99212598, 0.99212598,\n",
       "        0.99606299, 0.99606299, 1.        , 1.        ]),\n",
       " array([2.00000000e+00, 1.00000000e+00, 1.00000000e+00, 9.86090939e-01,\n",
       "        2.09506098e-01, 1.74186247e-01, 1.33620403e-01, 1.32530010e-01,\n",
       "        1.14793841e-01, 1.13378471e-01, 1.02292899e-01, 9.59981561e-02,\n",
       "        6.70742945e-02, 6.56596671e-02, 2.99806745e-02, 2.82587884e-02,\n",
       "        2.52102310e-02, 2.45523356e-02, 1.50326195e-03]))"
      ]
     },
     "execution_count": 52,
     "metadata": {},
     "output_type": "execute_result"
    }
   ],
   "source": [
    "FPR, TPR, Threshold = metrics.roc_curve(y_test, LRC.predict_proba(X_test)[:,1])\n",
    "FPR, TPR, Threshold"
   ]
  },
  {
   "cell_type": "code",
   "execution_count": 54,
   "metadata": {},
   "outputs": [],
   "source": [
    "ROC_AUC = roc_auc_score(y_test,y_pred)"
   ]
  },
  {
   "cell_type": "code",
   "execution_count": 56,
   "metadata": {},
   "outputs": [
    {
     "data": {
      "text/plain": [
       "<matplotlib.legend.Legend at 0x2006978ce08>"
      ]
     },
     "execution_count": 56,
     "metadata": {},
     "output_type": "execute_result"
    },
    {
     "data": {
      "image/png": "[encoded data removed]",
      "text/plain": [
       "<Figure size 720x720 with 1 Axes>"
      ]
     },
     "metadata": {},
     "output_type": "display_data"
    }
   ],
   "source": [
    "plt.figure(figsize=(10,10))\n",
    "plt.plot(FPR, TPR, label = 'LogisticRegression (Sensitivity = %0.3f)' %ROC_AUC)\n",
    "plt.plot([0,1],[0,1],'r--')\n",
    "plt.xlabel(\"False Positive\")\n",
    "plt.ylabel(\"True Positive\")\n",
    "plt.title('Receiver Operating Characteristic')\n",
    "plt.legend(loc = 'lower right')"
   ]
  },
  {
   "cell_type": "code",
   "execution_count": 57,
   "metadata": {},
   "outputs": [
    {
     "data": {
      "text/plain": [
       "0.9838220424671386"
      ]
     },
     "execution_count": 57,
     "metadata": {},
     "output_type": "execute_result"
    }
   ],
   "source": [
    "LRC.score(X_train,y_train)"
   ]
  },
  {
   "cell_type": "code",
   "execution_count": 59,
   "metadata": {},
   "outputs": [
    {
     "data": {
      "text/plain": [
       "array([[ 76,   7],\n",
       "       [  0, 247]], dtype=int64)"
      ]
     },
     "execution_count": 59,
     "metadata": {},
     "output_type": "execute_result"
    }
   ],
   "source": [
    "conf_mat = confusion_matrix(y_pred,y_test)\n",
    "conf_mat"
   ]
  },
  {
   "cell_type": "code",
   "execution_count": 60,
   "metadata": {},
   "outputs": [
    {
     "data": {
      "text/plain": [
       "<matplotlib.axes._subplots.AxesSubplot at 0x2006993aa48>"
      ]
     },
     "execution_count": 60,
     "metadata": {},
     "output_type": "execute_result"
    },
    {
     "data": {
      "image/png": "[encoded data removed]",
      "text/plain": [
       "<Figure size 720x576 with 2 Axes>"
      ]
     },
     "metadata": {},
     "output_type": "display_data"
    }
   ],
   "source": [
    "plt.figure(figsize=(10,8))\n",
    "sns.heatmap(conf_mat,annot=True,fmt='.3g')"
   ]
  },
  {
   "cell_type": "code",
   "execution_count": 61,
   "metadata": {},
   "outputs": [
    {
     "name": "stdout",
     "output_type": "stream",
     "text": [
      "              precision    recall  f1-score   support\n",
      "\n",
      "           0       0.92      1.00      0.96        76\n",
      "           1       1.00      0.97      0.99       254\n",
      "\n",
      "    accuracy                           0.98       330\n",
      "   macro avg       0.96      0.99      0.97       330\n",
      "weighted avg       0.98      0.98      0.98       330\n",
      "\n"
     ]
    }
   ],
   "source": [
    "print(classification_report(y_test,y_pred))"
   ]
  },
  {
   "cell_type": "code",
   "execution_count": 62,
   "metadata": {},
   "outputs": [
    {
     "data": {
      "text/plain": [
       "0.9724409448818898"
      ]
     },
     "execution_count": 62,
     "metadata": {},
     "output_type": "execute_result"
    }
   ],
   "source": [
    "recall_score(y_test,y_pred)"
   ]
  },
  {
   "cell_type": "code",
   "execution_count": 63,
   "metadata": {},
   "outputs": [
    {
     "name": "stdout",
     "output_type": "stream",
     "text": [
      "Accuracy : 97.88 %\n"
     ]
    }
   ],
   "source": [
    "Accuracy = accuracy_score(y_test,y_pred)\n",
    "print('Accuracy :', str(round(Accuracy*100,2)),'%')"
   ]
  },
  {
   "cell_type": "code",
   "execution_count": 71,
   "metadata": {},
   "outputs": [],
   "source": [
    "# Lets improve by tuning the logistic model.\n",
    "\n",
    "LRC1 = LogisticRegression(solver='liblinear', C = 0.05, random_state = 0)"
   ]
  },
  {
   "cell_type": "code",
   "execution_count": 72,
   "metadata": {},
   "outputs": [
    {
     "data": {
      "text/plain": [
       "LogisticRegression(C=0.05, class_weight=None, dual=False, fit_intercept=True,\n",
       "                   intercept_scaling=1, l1_ratio=None, max_iter=100,\n",
       "                   multi_class='auto', n_jobs=None, penalty='l2',\n",
       "                   random_state=0, solver='liblinear', tol=0.0001, verbose=0,\n",
       "                   warm_start=False)"
      ]
     },
     "execution_count": 72,
     "metadata": {},
     "output_type": "execute_result"
    }
   ],
   "source": [
    "LRC1.fit(X_train,y_train)"
   ]
  },
  {
   "cell_type": "code",
   "execution_count": 73,
   "metadata": {},
   "outputs": [
    {
     "data": {
      "text/plain": [
       "array([-0.20078892])"
      ]
     },
     "execution_count": 73,
     "metadata": {},
     "output_type": "execute_result"
    }
   ],
   "source": [
    "LRC1.intercept_"
   ]
  },
  {
   "cell_type": "code",
   "execution_count": 74,
   "metadata": {},
   "outputs": [
    {
     "data": {
      "text/plain": [
       "array([[-3.19411422e-02, -1.85226645e-01,  1.64476205e-04,\n",
       "         8.19182770e-01,  1.21354183e-01,  1.90908482e-02,\n",
       "        -2.59244000e-01, -5.78834735e-03, -9.60080440e-02,\n",
       "        -6.41066189e-05]])"
      ]
     },
     "execution_count": 74,
     "metadata": {},
     "output_type": "execute_result"
    }
   ],
   "source": [
    "LRC1.coef_"
   ]
  },
  {
   "cell_type": "code",
   "execution_count": 75,
   "metadata": {},
   "outputs": [
    {
     "data": {
      "text/plain": [
       "array([1.        , 1.        , 1.        , 1.        , 0.99999932,\n",
       "       1.        , 1.        , 1.        , 1.        , 0.05309613,\n",
       "       0.99989768, 0.05693706, 0.02484449, 1.        , 1.        ,\n",
       "       1.        , 0.08835293, 1.        , 1.        , 0.99924951,\n",
       "       1.        , 1.        , 0.1252473 , 1.        , 1.        ,\n",
       "       1.        , 1.        , 0.03268109, 0.99999997, 0.99006715,\n",
       "       1.        , 1.        , 1.        , 1.        , 1.        ,\n",
       "       0.99903972, 0.04215882, 1.        , 0.15761613, 1.        ,\n",
       "       1.        , 1.        , 0.17832423, 0.15300543, 0.99691521,\n",
       "       0.16009288, 1.        , 1.        , 1.        , 0.03943412,\n",
       "       1.        , 0.07101874, 1.        , 1.        , 0.07680298,\n",
       "       1.        , 1.        , 0.17647715, 1.        , 1.        ,\n",
       "       0.0616976 , 0.06953429, 0.99999988, 1.        , 0.01822411,\n",
       "       1.        , 0.17969471, 0.04183055, 1.        , 0.11920428,\n",
       "       1.        , 1.        , 1.        , 1.        , 1.        ,\n",
       "       0.06736659, 0.17012407, 1.        , 0.99999999, 1.        ,\n",
       "       0.06474246, 0.12146035, 0.23908757, 1.        , 1.        ,\n",
       "       1.        , 1.        , 1.        , 1.        , 1.        ,\n",
       "       1.        , 1.        , 1.        , 1.        , 0.03114014,\n",
       "       1.        , 0.99999999, 0.11240145, 1.        , 1.        ,\n",
       "       1.        , 0.99999989, 1.        , 1.        , 0.08249617,\n",
       "       0.09644613, 0.9999998 , 0.05711742, 1.        , 0.99994847,\n",
       "       1.        , 0.11447016, 1.        , 1.        , 0.05365752,\n",
       "       1.        , 0.14729772, 0.09577782, 0.08377849, 1.        ,\n",
       "       1.        , 1.        , 1.        , 1.        , 0.0822268 ,\n",
       "       0.08901083, 0.07325163, 1.        , 1.        , 0.09974577,\n",
       "       1.        , 0.22091947, 1.        , 1.        , 1.        ,\n",
       "       0.07093807, 1.        , 1.        , 0.05633671, 0.08833879,\n",
       "       1.        , 1.        , 1.        , 1.        , 1.        ,\n",
       "       1.        , 1.        , 1.        , 1.        , 0.01663742,\n",
       "       0.9896876 , 1.        , 0.21318037, 0.11122624, 1.        ,\n",
       "       1.        , 1.        , 1.        , 1.        , 1.        ,\n",
       "       0.09934647, 1.        , 1.        , 0.0029236 , 1.        ,\n",
       "       0.13735925, 1.        , 0.09655064, 1.        , 1.        ,\n",
       "       1.        , 1.        , 1.        , 0.99999653, 1.        ,\n",
       "       1.        , 1.        , 1.        , 1.        , 1.        ,\n",
       "       1.        , 1.        , 1.        , 0.83712579, 1.        ,\n",
       "       1.        , 1.        , 1.        , 1.        , 1.        ,\n",
       "       0.99994837, 0.17138902, 1.        , 1.        , 1.        ,\n",
       "       1.        , 0.15374693, 1.        , 0.15728819, 1.        ,\n",
       "       1.        , 1.        , 1.        , 1.        , 1.        ,\n",
       "       1.        , 1.        , 1.        , 1.        , 1.        ,\n",
       "       1.        , 1.        , 0.09738629, 0.1511392 , 0.75496471,\n",
       "       1.        , 0.06539496, 0.13368443, 1.        , 1.        ,\n",
       "       1.        , 0.0109387 , 1.        , 0.08925704, 1.        ,\n",
       "       0.00779322, 1.        , 1.        , 0.04183112, 1.        ,\n",
       "       1.        , 1.        , 1.        , 0.99338669, 1.        ,\n",
       "       1.        , 1.        , 1.        , 0.12744122, 1.        ,\n",
       "       1.        , 0.12557632, 1.        , 1.        , 1.        ,\n",
       "       1.        , 1.        , 0.83318067, 1.        , 1.        ,\n",
       "       1.        , 1.        , 1.        , 1.        , 0.05317693,\n",
       "       0.09897993, 1.        , 1.        , 1.        , 0.87945504,\n",
       "       1.        , 1.        , 0.11304855, 0.12787648, 1.        ,\n",
       "       1.        , 1.        , 0.04519124, 1.        , 0.07744854,\n",
       "       1.        , 1.        , 1.        , 1.        , 1.        ,\n",
       "       1.        , 1.        , 1.        , 1.        , 1.        ,\n",
       "       0.17424222, 1.        , 1.        , 1.        , 0.06679976,\n",
       "       1.        , 0.09435656, 1.        , 0.05266212, 1.        ,\n",
       "       0.09370772, 1.        , 1.        , 1.        , 1.        ,\n",
       "       0.04610014, 1.        , 1.        , 0.99577151, 0.74663736,\n",
       "       1.        , 1.        , 0.07002821, 1.        , 1.        ,\n",
       "       1.        , 1.        , 1.        , 1.        , 0.06277736,\n",
       "       0.17825255, 0.89661642, 0.04093722, 1.        , 0.03587234,\n",
       "       1.        , 1.        , 1.        , 1.        , 1.        ,\n",
       "       0.99709537, 1.        , 0.1215636 , 1.        , 1.        ,\n",
       "       0.04856377, 1.        , 1.        , 1.        , 1.        ])"
      ]
     },
     "execution_count": 75,
     "metadata": {},
     "output_type": "execute_result"
    }
   ],
   "source": [
    "LRC1.predict_proba(X_test)[:,1]"
   ]
  },
  {
   "cell_type": "code",
   "execution_count": 79,
   "metadata": {},
   "outputs": [
    {
     "data": {
      "text/plain": [
       "array([1, 1, 1, 1, 1, 1, 1, 1, 1, 0, 1, 0, 0, 1, 1, 1, 0, 1, 1, 1, 1, 1,\n",
       "       0, 1, 1, 1, 1, 0, 1, 1, 1, 1, 1, 1, 1, 1, 0, 1, 0, 1, 1, 1, 0, 0,\n",
       "       1, 0, 1, 1, 1, 0, 1, 0, 1, 1, 0, 1, 1, 0, 1, 1, 0, 0, 1, 1, 0, 1,\n",
       "       0, 0, 1, 0, 1, 1, 1, 1, 1, 0, 0, 1, 1, 1, 0, 0, 0, 1, 1, 1, 1, 1,\n",
       "       1, 1, 1, 1, 1, 1, 0, 1, 1, 0, 1, 1, 1, 1, 1, 1, 0, 0, 1, 0, 1, 1,\n",
       "       1, 0, 1, 1, 0, 1, 0, 0, 0, 1, 1, 1, 1, 1, 0, 0, 0, 1, 1, 0, 1, 0,\n",
       "       1, 1, 1, 0, 1, 1, 0, 0, 1, 1, 1, 1, 1, 1, 1, 1, 1, 0, 1, 1, 0, 0,\n",
       "       1, 1, 1, 1, 1, 1, 0, 1, 1, 0, 1, 0, 1, 0, 1, 1, 1, 1, 1, 1, 1, 1,\n",
       "       1, 1, 1, 1, 1, 1, 1, 1, 1, 1, 1, 1, 1, 1, 1, 0, 1, 1, 1, 1, 0, 1,\n",
       "       0, 1, 1, 1, 1, 1, 1, 1, 1, 1, 1, 1, 1, 1, 0, 0, 1, 1, 0, 0, 1, 1,\n",
       "       1, 0, 1, 0, 1, 0, 1, 1, 0, 1, 1, 1, 1, 1, 1, 1, 1, 1, 0, 1, 1, 0,\n",
       "       1, 1, 1, 1, 1, 1, 1, 1, 1, 1, 1, 1, 0, 0, 1, 1, 1, 1, 1, 1, 0, 0,\n",
       "       1, 1, 1, 0, 1, 0, 1, 1, 1, 1, 1, 1, 1, 1, 1, 1, 0, 1, 1, 1, 0, 1,\n",
       "       0, 1, 0, 1, 0, 1, 1, 1, 1, 0, 1, 1, 1, 1, 1, 1, 0, 1, 1, 1, 1, 1,\n",
       "       1, 0, 0, 1, 0, 1, 0, 1, 1, 1, 1, 1, 1, 1, 0, 1, 1, 0, 1, 1, 1, 1])"
      ]
     },
     "execution_count": 79,
     "metadata": {},
     "output_type": "execute_result"
    }
   ],
   "source": [
    "y_pred1 = LRC1.predict(X_test)\n",
    "y_pred1"
   ]
  },
  {
   "cell_type": "code",
   "execution_count": 80,
   "metadata": {},
   "outputs": [
    {
     "data": {
      "text/plain": [
       "0.9787878787878788"
      ]
     },
     "execution_count": 80,
     "metadata": {},
     "output_type": "execute_result"
    }
   ],
   "source": [
    "LRC1.score(X_test,y_test)"
   ]
  },
  {
   "cell_type": "code",
   "execution_count": 81,
   "metadata": {},
   "outputs": [
    {
     "data": {
      "text/plain": [
       "array([[ 76,   0],\n",
       "       [  7, 247]], dtype=int64)"
      ]
     },
     "execution_count": 81,
     "metadata": {},
     "output_type": "execute_result"
    }
   ],
   "source": [
    "conf_mat = confusion_matrix(y_test,y_pred1)\n",
    "conf_mat"
   ]
  },
  {
   "cell_type": "code",
   "execution_count": 82,
   "metadata": {},
   "outputs": [
    {
     "name": "stdout",
     "output_type": "stream",
     "text": [
      "              precision    recall  f1-score   support\n",
      "\n",
      "           0       0.92      1.00      0.96        76\n",
      "           1       1.00      0.97      0.99       254\n",
      "\n",
      "    accuracy                           0.98       330\n",
      "   macro avg       0.96      0.99      0.97       330\n",
      "weighted avg       0.98      0.98      0.98       330\n",
      "\n"
     ]
    }
   ],
   "source": [
    "print(classification_report(y_test,y_pred1))"
   ]
  },
  {
   "cell_type": "code",
   "execution_count": 83,
   "metadata": {},
   "outputs": [
    {
     "data": {
      "text/plain": [
       "<matplotlib.axes._subplots.AxesSubplot at 0x20069657fc8>"
      ]
     },
     "execution_count": 83,
     "metadata": {},
     "output_type": "execute_result"
    },
    {
     "data": {
      "image/png": "[encoded data removed]",
      "text/plain": [
       "<Figure size 720x576 with 2 Axes>"
      ]
     },
     "metadata": {},
     "output_type": "display_data"
    }
   ],
   "source": [
    "plt.figure(figsize=(10,8))\n",
    "sns.heatmap(conf_mat,annot=True,fmt ='.3g')"
   ]
  },
  {
   "cell_type": "code",
   "execution_count": 84,
   "metadata": {},
   "outputs": [],
   "source": [
    "from sklearn import metrics"
   ]
  },
  {
   "cell_type": "code",
   "execution_count": 85,
   "metadata": {},
   "outputs": [
    {
     "data": {
      "text/plain": [
       "(array([0.        , 0.        , 0.        , 0.        , 0.03947368,\n",
       "        0.03947368, 0.09210526, 0.09210526, 0.11842105, 0.11842105,\n",
       "        0.17105263, 0.17105263, 0.39473684, 0.39473684, 0.81578947,\n",
       "        0.81578947, 0.97368421, 0.97368421, 1.        ]),\n",
       " array([0.        , 0.7992126 , 0.81102362, 0.97244094, 0.97244094,\n",
       "        0.97637795, 0.97637795, 0.98031496, 0.98031496, 0.98425197,\n",
       "        0.98425197, 0.98818898, 0.98818898, 0.99212598, 0.99212598,\n",
       "        0.99606299, 0.99606299, 1.        , 1.        ]),\n",
       " array([2.        , 1.        , 1.        , 0.74663736, 0.21318037,\n",
       "        0.17969471, 0.17424222, 0.17138902, 0.16009288, 0.15761613,\n",
       "        0.1511392 , 0.14729772, 0.09738629, 0.09655064, 0.04856377,\n",
       "        0.04610014, 0.01663742, 0.0109387 , 0.0029236 ]))"
      ]
     },
     "execution_count": 85,
     "metadata": {},
     "output_type": "execute_result"
    }
   ],
   "source": [
    "FPR, TPR, Threshold = metrics.roc_curve(y_test, LRC1.predict_proba(X_test)[:,1])\n",
    "FPR, TPR, Threshold"
   ]
  },
  {
   "cell_type": "code",
   "execution_count": 87,
   "metadata": {},
   "outputs": [
    {
     "data": {
      "text/plain": [
       "0.9862204724409449"
      ]
     },
     "execution_count": 87,
     "metadata": {},
     "output_type": "execute_result"
    }
   ],
   "source": [
    "ROC_AUC = roc_auc_score(y_test,y_pred1)\n",
    "ROC_AUC"
   ]
  },
  {
   "cell_type": "code",
   "execution_count": 88,
   "metadata": {},
   "outputs": [
    {
     "data": {
      "text/plain": [
       "<matplotlib.legend.Legend at 0x200696e7c48>"
      ]
     },
     "execution_count": 88,
     "metadata": {},
     "output_type": "execute_result"
    },
    {
     "data": {
      "image/png": "[encoded data removed]",
      "text/plain": [
       "<Figure size 720x720 with 1 Axes>"
      ]
     },
     "metadata": {},
     "output_type": "display_data"
    }
   ],
   "source": [
    "plt.figure(figsize=(10,10))\n",
    "plt.plot(FPR, TPR, label = 'Logistic Regression(Sensitivity = %0.3f)' % ROC_AUC)\n",
    "plt.plot([0,1],[0,1],'r--')\n",
    "plt.xlabel('False positive')\n",
    "plt.ylabel('True positive')\n",
    "plt.title('Reciever Operating Characteristic')\n",
    "plt.legend(loc = 'lower right')"
   ]
  },
  {
   "cell_type": "code",
   "execution_count": 89,
   "metadata": {},
   "outputs": [
    {
     "data": {
      "text/plain": [
       "0.25"
      ]
     },
     "execution_count": 89,
     "metadata": {},
     "output_type": "execute_result"
    }
   ],
   "source": [
    "threshold = [0.1, 0.25, 0.8, 0.9]\n",
    "threshold[1]"
   ]
  },
  {
   "cell_type": "code",
   "execution_count": 90,
   "metadata": {},
   "outputs": [
    {
     "name": "stdout",
     "output_type": "stream",
     "text": [
      "Valuation for test data only : [0.1]\n",
      "              precision    recall  f1-score   support\n",
      "\n",
      "           0       0.92      1.00      0.96        76\n",
      "           1       1.00      0.97      0.99       254\n",
      "\n",
      "    accuracy                           0.98       330\n",
      "   macro avg       0.96      0.99      0.97       330\n",
      "weighted avg       0.98      0.98      0.98       330\n",
      "\n",
      "Valuation for test data only (new threshold):\n",
      "              precision    recall  f1-score   support\n",
      "\n",
      "           0       0.94      0.66      0.78        76\n",
      "           1       0.91      0.99      0.95       254\n",
      "\n",
      "    accuracy                           0.91       330\n",
      "   macro avg       0.92      0.82      0.86       330\n",
      "weighted avg       0.91      0.91      0.91       330\n",
      "\n",
      "---------------------------------------------------\n",
      "\n",
      "\n",
      "Valuation for test data only : [0.25]\n",
      "              precision    recall  f1-score   support\n",
      "\n",
      "           0       0.92      1.00      0.96        76\n",
      "           1       1.00      0.97      0.99       254\n",
      "\n",
      "    accuracy                           0.98       330\n",
      "   macro avg       0.96      0.99      0.97       330\n",
      "weighted avg       0.98      0.98      0.98       330\n",
      "\n",
      "Valuation for test data only (new threshold):\n",
      "              precision    recall  f1-score   support\n",
      "\n",
      "           0       0.92      1.00      0.96        76\n",
      "           1       1.00      0.97      0.99       254\n",
      "\n",
      "    accuracy                           0.98       330\n",
      "   macro avg       0.96      0.99      0.97       330\n",
      "weighted avg       0.98      0.98      0.98       330\n",
      "\n",
      "---------------------------------------------------\n",
      "\n",
      "\n",
      "Valuation for test data only : [0.8]\n",
      "              precision    recall  f1-score   support\n",
      "\n",
      "           0       0.92      1.00      0.96        76\n",
      "           1       1.00      0.97      0.99       254\n",
      "\n",
      "    accuracy                           0.98       330\n",
      "   macro avg       0.96      0.99      0.97       330\n",
      "weighted avg       0.98      0.98      0.98       330\n",
      "\n",
      "Valuation for test data only (new threshold):\n",
      "              precision    recall  f1-score   support\n",
      "\n",
      "           0       0.89      1.00      0.94        76\n",
      "           1       1.00      0.96      0.98       254\n",
      "\n",
      "    accuracy                           0.97       330\n",
      "   macro avg       0.95      0.98      0.96       330\n",
      "weighted avg       0.98      0.97      0.97       330\n",
      "\n",
      "---------------------------------------------------\n",
      "\n",
      "\n",
      "Valuation for test data only : [0.9]\n",
      "              precision    recall  f1-score   support\n",
      "\n",
      "           0       0.92      1.00      0.96        76\n",
      "           1       1.00      0.97      0.99       254\n",
      "\n",
      "    accuracy                           0.98       330\n",
      "   macro avg       0.96      0.99      0.97       330\n",
      "weighted avg       0.98      0.98      0.98       330\n",
      "\n",
      "Valuation for test data only (new threshold):\n",
      "              precision    recall  f1-score   support\n",
      "\n",
      "           0       0.85      1.00      0.92        76\n",
      "           1       1.00      0.95      0.97       254\n",
      "\n",
      "    accuracy                           0.96       330\n",
      "   macro avg       0.93      0.97      0.95       330\n",
      "weighted avg       0.97      0.96      0.96       330\n",
      "\n",
      "---------------------------------------------------\n",
      "\n",
      "\n"
     ]
    }
   ],
   "source": [
    "for i in threshold:\n",
    "    Logistic_grid = ((LRC1.predict_proba(X_test)[:,1])>= i).astype(int)\n",
    "    print('Valuation for test data only :',[i])\n",
    "    print(classification_report(y_test,y_pred))\n",
    "    print('Valuation for test data only (new threshold):')\n",
    "    print(classification_report(y_test, Logistic_grid))\n",
    "    print('---------------------------------------------------\\n\\n')"
   ]
  },
  {
   "cell_type": "code",
   "execution_count": null,
   "metadata": {},
   "outputs": [],
   "source": [
    "# We will now"
   ]
  }
 ],
 "metadata": {
  "kernelspec": {
   "display_name": "Python 3",
   "language": "python",
   "name": "python3"
  },
  "language_info": {
   "codemirror_mode": {
    "name": "ipython",
    "version": 3
   },
   "file_extension": ".py",
   "mimetype": "text/x-python",
   "name": "python",
   "nbconvert_exporter": "python",
   "pygments_lexer": "ipython3",
   "version": "3.7.6"
  }
 },
 "nbformat": 4,
 "nbformat_minor": 4
}
